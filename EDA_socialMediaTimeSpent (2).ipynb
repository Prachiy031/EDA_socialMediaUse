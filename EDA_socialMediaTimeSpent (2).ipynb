{
 "cells": [
  {
   "cell_type": "markdown",
   "id": "933ba292",
   "metadata": {},
   "source": [
    "# EDA"
   ]
  },
  {
   "cell_type": "markdown",
   "id": "5500a2a2",
   "metadata": {},
   "source": [
    "EDA helps in analyazing and summarizing data visually and statistically to uncover patterns and relationships.\n",
    "\n"
   ]
  },
  {
   "cell_type": "markdown",
   "id": "5732abf6",
   "metadata": {},
   "source": [
    "1] Data collection\n"
   ]
  },
  {
   "cell_type": "markdown",
   "id": "6a66203b",
   "metadata": {},
   "source": [
    "importing libraries"
   ]
  },
  {
   "cell_type": "markdown",
   "id": "77394e01",
   "metadata": {},
   "source": [
    "pandas : data manipulation and analysis\n",
    "numpy : provides mathematical function for numerical operations(arrays,matrices)\n",
    "matplotlib.pyplot : ploting lib used to create basuc visualization (line plots,histograms,scatter plots)\n",
    "seaborn : visualization lib (high lebel interface for creating more advanced and aesthetically pleasing visualization)\n",
    "scipy.stats: wide range of statistical functions and distributions\n",
    "\n",
    "The plotly.express module (usually imported as px) contains functions that can create entire figures at once, and is referred to as Plotly Express or PX. Plotly Express is a built-in part of the plotly library, and is the recommended starting point for creating most common figures. Every Plotly Express function uses graph objects internally and returns a plotly.graph_objects.Figure instance\n",
    "\n",
    "\n"
   ]
  },
  {
   "cell_type": "code",
   "execution_count": 95,
   "id": "672598af",
   "metadata": {},
   "outputs": [],
   "source": [
    "import numpy as np\n",
    "import pandas as pd\n",
    "import seaborn as sns\n",
    "import matplotlib.pyplot as plt\n",
    "import scipy.stats as stats\n",
    "import plotly.express as px\n",
    "from sklearn.preprocessing import LabelEncoder, OneHotEncoder, StandardScaler, MinMaxScaler"
   ]
  },
  {
   "cell_type": "markdown",
   "id": "335e8133",
   "metadata": {},
   "source": [
    "Data Cleaning\n",
    "invloves identifying and resolving data quality issues such as missing values,outliers,duplicates.\n",
    "This issues can affect the accuracy of the insights derived during eda"
   ]
  },
  {
   "cell_type": "markdown",
   "id": "7c4757bf",
   "metadata": {},
   "source": [
    "Identifying and removing duplicates"
   ]
  },
  {
   "cell_type": "code",
   "execution_count": 9,
   "id": "20b6d579",
   "metadata": {},
   "outputs": [],
   "source": [
    "dataset = pd.read_csv('C:/Users/Prachi Yadav/Desktop/TY/projects/python/dummy_data.csv')"
   ]
  },
  {
   "cell_type": "code",
   "execution_count": 10,
   "id": "4632624d",
   "metadata": {},
   "outputs": [
    {
     "data": {
      "text/html": [
       "<div>\n",
       "<style scoped>\n",
       "    .dataframe tbody tr th:only-of-type {\n",
       "        vertical-align: middle;\n",
       "    }\n",
       "\n",
       "    .dataframe tbody tr th {\n",
       "        vertical-align: top;\n",
       "    }\n",
       "\n",
       "    .dataframe thead th {\n",
       "        text-align: right;\n",
       "    }\n",
       "</style>\n",
       "<table border=\"1\" class=\"dataframe\">\n",
       "  <thead>\n",
       "    <tr style=\"text-align: right;\">\n",
       "      <th></th>\n",
       "      <th>age</th>\n",
       "      <th>gender</th>\n",
       "      <th>time_spent</th>\n",
       "      <th>platform</th>\n",
       "      <th>interests</th>\n",
       "      <th>location</th>\n",
       "      <th>demographics</th>\n",
       "      <th>profession</th>\n",
       "      <th>income</th>\n",
       "      <th>indebt</th>\n",
       "      <th>isHomeOwner</th>\n",
       "      <th>Owns_Car</th>\n",
       "    </tr>\n",
       "  </thead>\n",
       "  <tbody>\n",
       "    <tr>\n",
       "      <th>0</th>\n",
       "      <td>56</td>\n",
       "      <td>male</td>\n",
       "      <td>3</td>\n",
       "      <td>Instagram</td>\n",
       "      <td>Sports</td>\n",
       "      <td>United Kingdom</td>\n",
       "      <td>Urban</td>\n",
       "      <td>Software Engineer</td>\n",
       "      <td>19774</td>\n",
       "      <td>True</td>\n",
       "      <td>False</td>\n",
       "      <td>False</td>\n",
       "    </tr>\n",
       "    <tr>\n",
       "      <th>1</th>\n",
       "      <td>46</td>\n",
       "      <td>female</td>\n",
       "      <td>2</td>\n",
       "      <td>Facebook</td>\n",
       "      <td>Travel</td>\n",
       "      <td>United Kingdom</td>\n",
       "      <td>Urban</td>\n",
       "      <td>Student</td>\n",
       "      <td>10564</td>\n",
       "      <td>True</td>\n",
       "      <td>True</td>\n",
       "      <td>True</td>\n",
       "    </tr>\n",
       "    <tr>\n",
       "      <th>2</th>\n",
       "      <td>32</td>\n",
       "      <td>male</td>\n",
       "      <td>8</td>\n",
       "      <td>Instagram</td>\n",
       "      <td>Sports</td>\n",
       "      <td>Australia</td>\n",
       "      <td>Sub_Urban</td>\n",
       "      <td>Marketer Manager</td>\n",
       "      <td>13258</td>\n",
       "      <td>False</td>\n",
       "      <td>False</td>\n",
       "      <td>False</td>\n",
       "    </tr>\n",
       "    <tr>\n",
       "      <th>3</th>\n",
       "      <td>60</td>\n",
       "      <td>non-binary</td>\n",
       "      <td>5</td>\n",
       "      <td>Instagram</td>\n",
       "      <td>Travel</td>\n",
       "      <td>United Kingdom</td>\n",
       "      <td>Urban</td>\n",
       "      <td>Student</td>\n",
       "      <td>12500</td>\n",
       "      <td>False</td>\n",
       "      <td>True</td>\n",
       "      <td>False</td>\n",
       "    </tr>\n",
       "    <tr>\n",
       "      <th>4</th>\n",
       "      <td>25</td>\n",
       "      <td>male</td>\n",
       "      <td>1</td>\n",
       "      <td>Instagram</td>\n",
       "      <td>Lifestlye</td>\n",
       "      <td>Australia</td>\n",
       "      <td>Urban</td>\n",
       "      <td>Software Engineer</td>\n",
       "      <td>14566</td>\n",
       "      <td>False</td>\n",
       "      <td>True</td>\n",
       "      <td>True</td>\n",
       "    </tr>\n",
       "    <tr>\n",
       "      <th>...</th>\n",
       "      <td>...</td>\n",
       "      <td>...</td>\n",
       "      <td>...</td>\n",
       "      <td>...</td>\n",
       "      <td>...</td>\n",
       "      <td>...</td>\n",
       "      <td>...</td>\n",
       "      <td>...</td>\n",
       "      <td>...</td>\n",
       "      <td>...</td>\n",
       "      <td>...</td>\n",
       "      <td>...</td>\n",
       "    </tr>\n",
       "    <tr>\n",
       "      <th>995</th>\n",
       "      <td>22</td>\n",
       "      <td>female</td>\n",
       "      <td>8</td>\n",
       "      <td>Instagram</td>\n",
       "      <td>Lifestlye</td>\n",
       "      <td>United Kingdom</td>\n",
       "      <td>Rural</td>\n",
       "      <td>Marketer Manager</td>\n",
       "      <td>18536</td>\n",
       "      <td>False</td>\n",
       "      <td>True</td>\n",
       "      <td>False</td>\n",
       "    </tr>\n",
       "    <tr>\n",
       "      <th>996</th>\n",
       "      <td>40</td>\n",
       "      <td>non-binary</td>\n",
       "      <td>6</td>\n",
       "      <td>YouTube</td>\n",
       "      <td>Travel</td>\n",
       "      <td>United Kingdom</td>\n",
       "      <td>Rural</td>\n",
       "      <td>Software Engineer</td>\n",
       "      <td>12711</td>\n",
       "      <td>True</td>\n",
       "      <td>False</td>\n",
       "      <td>False</td>\n",
       "    </tr>\n",
       "    <tr>\n",
       "      <th>997</th>\n",
       "      <td>27</td>\n",
       "      <td>non-binary</td>\n",
       "      <td>5</td>\n",
       "      <td>YouTube</td>\n",
       "      <td>Travel</td>\n",
       "      <td>United Kingdom</td>\n",
       "      <td>Rural</td>\n",
       "      <td>Student</td>\n",
       "      <td>17595</td>\n",
       "      <td>True</td>\n",
       "      <td>False</td>\n",
       "      <td>True</td>\n",
       "    </tr>\n",
       "    <tr>\n",
       "      <th>998</th>\n",
       "      <td>61</td>\n",
       "      <td>female</td>\n",
       "      <td>4</td>\n",
       "      <td>YouTube</td>\n",
       "      <td>Sports</td>\n",
       "      <td>Australia</td>\n",
       "      <td>Sub_Urban</td>\n",
       "      <td>Marketer Manager</td>\n",
       "      <td>16273</td>\n",
       "      <td>True</td>\n",
       "      <td>True</td>\n",
       "      <td>False</td>\n",
       "    </tr>\n",
       "    <tr>\n",
       "      <th>999</th>\n",
       "      <td>19</td>\n",
       "      <td>female</td>\n",
       "      <td>8</td>\n",
       "      <td>YouTube</td>\n",
       "      <td>Travel</td>\n",
       "      <td>Australia</td>\n",
       "      <td>Rural</td>\n",
       "      <td>Student</td>\n",
       "      <td>16284</td>\n",
       "      <td>False</td>\n",
       "      <td>True</td>\n",
       "      <td>False</td>\n",
       "    </tr>\n",
       "  </tbody>\n",
       "</table>\n",
       "<p>1000 rows × 12 columns</p>\n",
       "</div>"
      ],
      "text/plain": [
       "     age      gender  time_spent   platform  interests        location  \\\n",
       "0     56        male           3  Instagram     Sports  United Kingdom   \n",
       "1     46      female           2   Facebook     Travel  United Kingdom   \n",
       "2     32        male           8  Instagram     Sports       Australia   \n",
       "3     60  non-binary           5  Instagram     Travel  United Kingdom   \n",
       "4     25        male           1  Instagram  Lifestlye       Australia   \n",
       "..   ...         ...         ...        ...        ...             ...   \n",
       "995   22      female           8  Instagram  Lifestlye  United Kingdom   \n",
       "996   40  non-binary           6    YouTube     Travel  United Kingdom   \n",
       "997   27  non-binary           5    YouTube     Travel  United Kingdom   \n",
       "998   61      female           4    YouTube     Sports       Australia   \n",
       "999   19      female           8    YouTube     Travel       Australia   \n",
       "\n",
       "    demographics         profession  income  indebt  isHomeOwner  Owns_Car  \n",
       "0          Urban  Software Engineer   19774    True        False     False  \n",
       "1          Urban            Student   10564    True         True      True  \n",
       "2      Sub_Urban   Marketer Manager   13258   False        False     False  \n",
       "3          Urban            Student   12500   False         True     False  \n",
       "4          Urban  Software Engineer   14566   False         True      True  \n",
       "..           ...                ...     ...     ...          ...       ...  \n",
       "995        Rural   Marketer Manager   18536   False         True     False  \n",
       "996        Rural  Software Engineer   12711    True        False     False  \n",
       "997        Rural            Student   17595    True        False      True  \n",
       "998    Sub_Urban   Marketer Manager   16273    True         True     False  \n",
       "999        Rural            Student   16284   False         True     False  \n",
       "\n",
       "[1000 rows x 12 columns]"
      ]
     },
     "execution_count": 10,
     "metadata": {},
     "output_type": "execute_result"
    }
   ],
   "source": [
    "dataset"
   ]
  },
  {
   "cell_type": "code",
   "execution_count": 12,
   "id": "0906c640",
   "metadata": {},
   "outputs": [
    {
     "name": "stdout",
     "output_type": "stream",
     "text": [
      "<class 'pandas.core.frame.DataFrame'>\n",
      "RangeIndex: 1000 entries, 0 to 999\n",
      "Data columns (total 12 columns):\n",
      " #   Column        Non-Null Count  Dtype \n",
      "---  ------        --------------  ----- \n",
      " 0   age           1000 non-null   int64 \n",
      " 1   gender        1000 non-null   object\n",
      " 2   time_spent    1000 non-null   int64 \n",
      " 3   platform      1000 non-null   object\n",
      " 4   interests     1000 non-null   object\n",
      " 5   location      1000 non-null   object\n",
      " 6   demographics  1000 non-null   object\n",
      " 7   profession    1000 non-null   object\n",
      " 8   income        1000 non-null   int64 \n",
      " 9   indebt        1000 non-null   bool  \n",
      " 10  isHomeOwner   1000 non-null   bool  \n",
      " 11  Owns_Car      1000 non-null   bool  \n",
      "dtypes: bool(3), int64(3), object(6)\n",
      "memory usage: 73.4+ KB\n"
     ]
    }
   ],
   "source": [
    "dataset.info()       #All info of dataset"
   ]
  },
  {
   "cell_type": "markdown",
   "id": "4274a539",
   "metadata": {},
   "source": [
    "dataframe is 2d data structure like a 2d array or table with rows and colm"
   ]
  },
  {
   "cell_type": "code",
   "execution_count": 18,
   "id": "ab390493",
   "metadata": {},
   "outputs": [],
   "source": [
    "df = pd.DataFrame(dataset)"
   ]
  },
  {
   "cell_type": "code",
   "execution_count": 20,
   "id": "13164ef7",
   "metadata": {},
   "outputs": [
    {
     "name": "stdout",
     "output_type": "stream",
     "text": [
      "Empty DataFrame\n",
      "Columns: [age, gender, time_spent, platform, interests, location, demographics, profession, income, indebt, isHomeOwner, Owns_Car]\n",
      "Index: []\n"
     ]
    }
   ],
   "source": [
    "duplicates = df.duplicated()              #duplicates data\n",
    "print(df[duplicates])"
   ]
  },
  {
   "cell_type": "markdown",
   "id": "040e6dbf",
   "metadata": {},
   "source": [
    "dealing with missing values in data(imputation)"
   ]
  },
  {
   "cell_type": "code",
   "execution_count": 21,
   "id": "a2688a32",
   "metadata": {},
   "outputs": [
    {
     "name": "stdout",
     "output_type": "stream",
     "text": [
      "       age  gender  time_spent  platform  interests  location  demographics  \\\n",
      "0    False   False       False     False      False     False         False   \n",
      "1    False   False       False     False      False     False         False   \n",
      "2    False   False       False     False      False     False         False   \n",
      "3    False   False       False     False      False     False         False   \n",
      "4    False   False       False     False      False     False         False   \n",
      "..     ...     ...         ...       ...        ...       ...           ...   \n",
      "995  False   False       False     False      False     False         False   \n",
      "996  False   False       False     False      False     False         False   \n",
      "997  False   False       False     False      False     False         False   \n",
      "998  False   False       False     False      False     False         False   \n",
      "999  False   False       False     False      False     False         False   \n",
      "\n",
      "     profession  income  indebt  isHomeOwner  Owns_Car  \n",
      "0         False   False   False        False     False  \n",
      "1         False   False   False        False     False  \n",
      "2         False   False   False        False     False  \n",
      "3         False   False   False        False     False  \n",
      "4         False   False   False        False     False  \n",
      "..          ...     ...     ...          ...       ...  \n",
      "995       False   False   False        False     False  \n",
      "996       False   False   False        False     False  \n",
      "997       False   False   False        False     False  \n",
      "998       False   False   False        False     False  \n",
      "999       False   False   False        False     False  \n",
      "\n",
      "[1000 rows x 12 columns]\n"
     ]
    }
   ],
   "source": [
    "print(df.isna())         "
   ]
  },
  {
   "cell_type": "code",
   "execution_count": 22,
   "id": "b905a412",
   "metadata": {},
   "outputs": [
    {
     "name": "stdout",
     "output_type": "stream",
     "text": [
      "       age  gender  time_spent  platform  interests  location  demographics  \\\n",
      "0    False   False       False     False      False     False         False   \n",
      "1    False   False       False     False      False     False         False   \n",
      "2    False   False       False     False      False     False         False   \n",
      "3    False   False       False     False      False     False         False   \n",
      "4    False   False       False     False      False     False         False   \n",
      "..     ...     ...         ...       ...        ...       ...           ...   \n",
      "995  False   False       False     False      False     False         False   \n",
      "996  False   False       False     False      False     False         False   \n",
      "997  False   False       False     False      False     False         False   \n",
      "998  False   False       False     False      False     False         False   \n",
      "999  False   False       False     False      False     False         False   \n",
      "\n",
      "     profession  income  indebt  isHomeOwner  Owns_Car  \n",
      "0         False   False   False        False     False  \n",
      "1         False   False   False        False     False  \n",
      "2         False   False   False        False     False  \n",
      "3         False   False   False        False     False  \n",
      "4         False   False   False        False     False  \n",
      "..          ...     ...     ...          ...       ...  \n",
      "995       False   False   False        False     False  \n",
      "996       False   False   False        False     False  \n",
      "997       False   False   False        False     False  \n",
      "998       False   False   False        False     False  \n",
      "999       False   False   False        False     False  \n",
      "\n",
      "[1000 rows x 12 columns]\n"
     ]
    }
   ],
   "source": [
    "print(df.isnull())"
   ]
  },
  {
   "cell_type": "code",
   "execution_count": 24,
   "id": "2b561692",
   "metadata": {},
   "outputs": [],
   "source": [
    "df = df.fillna(0)       #filling missing values with 0"
   ]
  },
  {
   "cell_type": "code",
   "execution_count": 25,
   "id": "c6f9314c",
   "metadata": {},
   "outputs": [
    {
     "data": {
      "text/html": [
       "<div>\n",
       "<style scoped>\n",
       "    .dataframe tbody tr th:only-of-type {\n",
       "        vertical-align: middle;\n",
       "    }\n",
       "\n",
       "    .dataframe tbody tr th {\n",
       "        vertical-align: top;\n",
       "    }\n",
       "\n",
       "    .dataframe thead th {\n",
       "        text-align: right;\n",
       "    }\n",
       "</style>\n",
       "<table border=\"1\" class=\"dataframe\">\n",
       "  <thead>\n",
       "    <tr style=\"text-align: right;\">\n",
       "      <th></th>\n",
       "      <th>age</th>\n",
       "      <th>gender</th>\n",
       "      <th>time_spent</th>\n",
       "      <th>platform</th>\n",
       "      <th>interests</th>\n",
       "      <th>location</th>\n",
       "      <th>demographics</th>\n",
       "      <th>profession</th>\n",
       "      <th>income</th>\n",
       "      <th>indebt</th>\n",
       "      <th>isHomeOwner</th>\n",
       "      <th>Owns_Car</th>\n",
       "    </tr>\n",
       "  </thead>\n",
       "  <tbody>\n",
       "    <tr>\n",
       "      <th>0</th>\n",
       "      <td>56</td>\n",
       "      <td>male</td>\n",
       "      <td>3</td>\n",
       "      <td>Instagram</td>\n",
       "      <td>Sports</td>\n",
       "      <td>United Kingdom</td>\n",
       "      <td>Urban</td>\n",
       "      <td>Software Engineer</td>\n",
       "      <td>19774</td>\n",
       "      <td>True</td>\n",
       "      <td>False</td>\n",
       "      <td>False</td>\n",
       "    </tr>\n",
       "    <tr>\n",
       "      <th>1</th>\n",
       "      <td>46</td>\n",
       "      <td>female</td>\n",
       "      <td>2</td>\n",
       "      <td>Facebook</td>\n",
       "      <td>Travel</td>\n",
       "      <td>United Kingdom</td>\n",
       "      <td>Urban</td>\n",
       "      <td>Student</td>\n",
       "      <td>10564</td>\n",
       "      <td>True</td>\n",
       "      <td>True</td>\n",
       "      <td>True</td>\n",
       "    </tr>\n",
       "    <tr>\n",
       "      <th>2</th>\n",
       "      <td>32</td>\n",
       "      <td>male</td>\n",
       "      <td>8</td>\n",
       "      <td>Instagram</td>\n",
       "      <td>Sports</td>\n",
       "      <td>Australia</td>\n",
       "      <td>Sub_Urban</td>\n",
       "      <td>Marketer Manager</td>\n",
       "      <td>13258</td>\n",
       "      <td>False</td>\n",
       "      <td>False</td>\n",
       "      <td>False</td>\n",
       "    </tr>\n",
       "    <tr>\n",
       "      <th>3</th>\n",
       "      <td>60</td>\n",
       "      <td>non-binary</td>\n",
       "      <td>5</td>\n",
       "      <td>Instagram</td>\n",
       "      <td>Travel</td>\n",
       "      <td>United Kingdom</td>\n",
       "      <td>Urban</td>\n",
       "      <td>Student</td>\n",
       "      <td>12500</td>\n",
       "      <td>False</td>\n",
       "      <td>True</td>\n",
       "      <td>False</td>\n",
       "    </tr>\n",
       "    <tr>\n",
       "      <th>4</th>\n",
       "      <td>25</td>\n",
       "      <td>male</td>\n",
       "      <td>1</td>\n",
       "      <td>Instagram</td>\n",
       "      <td>Lifestlye</td>\n",
       "      <td>Australia</td>\n",
       "      <td>Urban</td>\n",
       "      <td>Software Engineer</td>\n",
       "      <td>14566</td>\n",
       "      <td>False</td>\n",
       "      <td>True</td>\n",
       "      <td>True</td>\n",
       "    </tr>\n",
       "    <tr>\n",
       "      <th>...</th>\n",
       "      <td>...</td>\n",
       "      <td>...</td>\n",
       "      <td>...</td>\n",
       "      <td>...</td>\n",
       "      <td>...</td>\n",
       "      <td>...</td>\n",
       "      <td>...</td>\n",
       "      <td>...</td>\n",
       "      <td>...</td>\n",
       "      <td>...</td>\n",
       "      <td>...</td>\n",
       "      <td>...</td>\n",
       "    </tr>\n",
       "    <tr>\n",
       "      <th>995</th>\n",
       "      <td>22</td>\n",
       "      <td>female</td>\n",
       "      <td>8</td>\n",
       "      <td>Instagram</td>\n",
       "      <td>Lifestlye</td>\n",
       "      <td>United Kingdom</td>\n",
       "      <td>Rural</td>\n",
       "      <td>Marketer Manager</td>\n",
       "      <td>18536</td>\n",
       "      <td>False</td>\n",
       "      <td>True</td>\n",
       "      <td>False</td>\n",
       "    </tr>\n",
       "    <tr>\n",
       "      <th>996</th>\n",
       "      <td>40</td>\n",
       "      <td>non-binary</td>\n",
       "      <td>6</td>\n",
       "      <td>YouTube</td>\n",
       "      <td>Travel</td>\n",
       "      <td>United Kingdom</td>\n",
       "      <td>Rural</td>\n",
       "      <td>Software Engineer</td>\n",
       "      <td>12711</td>\n",
       "      <td>True</td>\n",
       "      <td>False</td>\n",
       "      <td>False</td>\n",
       "    </tr>\n",
       "    <tr>\n",
       "      <th>997</th>\n",
       "      <td>27</td>\n",
       "      <td>non-binary</td>\n",
       "      <td>5</td>\n",
       "      <td>YouTube</td>\n",
       "      <td>Travel</td>\n",
       "      <td>United Kingdom</td>\n",
       "      <td>Rural</td>\n",
       "      <td>Student</td>\n",
       "      <td>17595</td>\n",
       "      <td>True</td>\n",
       "      <td>False</td>\n",
       "      <td>True</td>\n",
       "    </tr>\n",
       "    <tr>\n",
       "      <th>998</th>\n",
       "      <td>61</td>\n",
       "      <td>female</td>\n",
       "      <td>4</td>\n",
       "      <td>YouTube</td>\n",
       "      <td>Sports</td>\n",
       "      <td>Australia</td>\n",
       "      <td>Sub_Urban</td>\n",
       "      <td>Marketer Manager</td>\n",
       "      <td>16273</td>\n",
       "      <td>True</td>\n",
       "      <td>True</td>\n",
       "      <td>False</td>\n",
       "    </tr>\n",
       "    <tr>\n",
       "      <th>999</th>\n",
       "      <td>19</td>\n",
       "      <td>female</td>\n",
       "      <td>8</td>\n",
       "      <td>YouTube</td>\n",
       "      <td>Travel</td>\n",
       "      <td>Australia</td>\n",
       "      <td>Rural</td>\n",
       "      <td>Student</td>\n",
       "      <td>16284</td>\n",
       "      <td>False</td>\n",
       "      <td>True</td>\n",
       "      <td>False</td>\n",
       "    </tr>\n",
       "  </tbody>\n",
       "</table>\n",
       "<p>1000 rows × 12 columns</p>\n",
       "</div>"
      ],
      "text/plain": [
       "     age      gender  time_spent   platform  interests        location  \\\n",
       "0     56        male           3  Instagram     Sports  United Kingdom   \n",
       "1     46      female           2   Facebook     Travel  United Kingdom   \n",
       "2     32        male           8  Instagram     Sports       Australia   \n",
       "3     60  non-binary           5  Instagram     Travel  United Kingdom   \n",
       "4     25        male           1  Instagram  Lifestlye       Australia   \n",
       "..   ...         ...         ...        ...        ...             ...   \n",
       "995   22      female           8  Instagram  Lifestlye  United Kingdom   \n",
       "996   40  non-binary           6    YouTube     Travel  United Kingdom   \n",
       "997   27  non-binary           5    YouTube     Travel  United Kingdom   \n",
       "998   61      female           4    YouTube     Sports       Australia   \n",
       "999   19      female           8    YouTube     Travel       Australia   \n",
       "\n",
       "    demographics         profession  income  indebt  isHomeOwner  Owns_Car  \n",
       "0          Urban  Software Engineer   19774    True        False     False  \n",
       "1          Urban            Student   10564    True         True      True  \n",
       "2      Sub_Urban   Marketer Manager   13258   False        False     False  \n",
       "3          Urban            Student   12500   False         True     False  \n",
       "4          Urban  Software Engineer   14566   False         True      True  \n",
       "..           ...                ...     ...     ...          ...       ...  \n",
       "995        Rural   Marketer Manager   18536   False         True     False  \n",
       "996        Rural  Software Engineer   12711    True        False     False  \n",
       "997        Rural            Student   17595    True        False      True  \n",
       "998    Sub_Urban   Marketer Manager   16273    True         True     False  \n",
       "999        Rural            Student   16284   False         True     False  \n",
       "\n",
       "[1000 rows x 12 columns]"
      ]
     },
     "execution_count": 25,
     "metadata": {},
     "output_type": "execute_result"
    }
   ],
   "source": [
    "df"
   ]
  },
  {
   "cell_type": "code",
   "execution_count": 31,
   "id": "1e1ba10b",
   "metadata": {},
   "outputs": [],
   "source": [
    "#removing outliers\n"
   ]
  },
  {
   "cell_type": "markdown",
   "id": "7446f19b",
   "metadata": {},
   "source": [
    "outliers are data points that deviate significantly from rest of the data and can caused by errors in data collection or represent extreme cases that need special consideration"
   ]
  },
  {
   "cell_type": "markdown",
   "id": "0f8adcaa",
   "metadata": {},
   "source": [
    "dealing with outliers can be don ein 2 ways:\n",
    "1}removing outl\n",
    "2}tranforming outl"
   ]
  },
  {
   "cell_type": "markdown",
   "id": "2dd992fd",
   "metadata": {},
   "source": [
    "the outlier data points are the ones falling below Q1–1.5 IQR or above Q3 + 1.5 IQR. The Q1 is the 25th percentile and Q3 is the 75th percentile of the dataset, and IQR represents the interquartile range calculated by Q3 minus Q1 (Q3–Q1). "
   ]
  },
  {
   "cell_type": "code",
   "execution_count": 35,
   "id": "ad4a6dfa",
   "metadata": {},
   "outputs": [],
   "source": [
    "Q1 = df['time_spent'].quantile(0.25)\n",
    "Q3 = df['time_spent'].quantile(0.75)\n",
    "IQR = Q3-Q1\n",
    "#filter outliers by IQR\n",
    "\n",
    "\n",
    "df_cleaned = df[(df['time_spent']>=Q1-1.5*IQR) & (df['time_spent']<= Q3+1.5*IQR)]"
   ]
  },
  {
   "cell_type": "code",
   "execution_count": 47,
   "id": "c7073ebf",
   "metadata": {},
   "outputs": [
    {
     "data": {
      "text/html": [
       "<div>\n",
       "<style scoped>\n",
       "    .dataframe tbody tr th:only-of-type {\n",
       "        vertical-align: middle;\n",
       "    }\n",
       "\n",
       "    .dataframe tbody tr th {\n",
       "        vertical-align: top;\n",
       "    }\n",
       "\n",
       "    .dataframe thead th {\n",
       "        text-align: right;\n",
       "    }\n",
       "</style>\n",
       "<table border=\"1\" class=\"dataframe\">\n",
       "  <thead>\n",
       "    <tr style=\"text-align: right;\">\n",
       "      <th></th>\n",
       "      <th>age</th>\n",
       "      <th>gender</th>\n",
       "      <th>time_spent</th>\n",
       "      <th>platform</th>\n",
       "      <th>interests</th>\n",
       "      <th>location</th>\n",
       "      <th>demographics</th>\n",
       "      <th>profession</th>\n",
       "      <th>income</th>\n",
       "      <th>indebt</th>\n",
       "      <th>isHomeOwner</th>\n",
       "      <th>Owns_Car</th>\n",
       "    </tr>\n",
       "  </thead>\n",
       "  <tbody>\n",
       "    <tr>\n",
       "      <th>0</th>\n",
       "      <td>56</td>\n",
       "      <td>male</td>\n",
       "      <td>3</td>\n",
       "      <td>Instagram</td>\n",
       "      <td>Sports</td>\n",
       "      <td>United Kingdom</td>\n",
       "      <td>Urban</td>\n",
       "      <td>Software Engineer</td>\n",
       "      <td>19774</td>\n",
       "      <td>True</td>\n",
       "      <td>False</td>\n",
       "      <td>False</td>\n",
       "    </tr>\n",
       "    <tr>\n",
       "      <th>1</th>\n",
       "      <td>46</td>\n",
       "      <td>female</td>\n",
       "      <td>2</td>\n",
       "      <td>Facebook</td>\n",
       "      <td>Travel</td>\n",
       "      <td>United Kingdom</td>\n",
       "      <td>Urban</td>\n",
       "      <td>Student</td>\n",
       "      <td>10564</td>\n",
       "      <td>True</td>\n",
       "      <td>True</td>\n",
       "      <td>True</td>\n",
       "    </tr>\n",
       "    <tr>\n",
       "      <th>2</th>\n",
       "      <td>32</td>\n",
       "      <td>male</td>\n",
       "      <td>8</td>\n",
       "      <td>Instagram</td>\n",
       "      <td>Sports</td>\n",
       "      <td>Australia</td>\n",
       "      <td>Sub_Urban</td>\n",
       "      <td>Marketer Manager</td>\n",
       "      <td>13258</td>\n",
       "      <td>False</td>\n",
       "      <td>False</td>\n",
       "      <td>False</td>\n",
       "    </tr>\n",
       "    <tr>\n",
       "      <th>3</th>\n",
       "      <td>60</td>\n",
       "      <td>non-binary</td>\n",
       "      <td>5</td>\n",
       "      <td>Instagram</td>\n",
       "      <td>Travel</td>\n",
       "      <td>United Kingdom</td>\n",
       "      <td>Urban</td>\n",
       "      <td>Student</td>\n",
       "      <td>12500</td>\n",
       "      <td>False</td>\n",
       "      <td>True</td>\n",
       "      <td>False</td>\n",
       "    </tr>\n",
       "    <tr>\n",
       "      <th>4</th>\n",
       "      <td>25</td>\n",
       "      <td>male</td>\n",
       "      <td>1</td>\n",
       "      <td>Instagram</td>\n",
       "      <td>Lifestlye</td>\n",
       "      <td>Australia</td>\n",
       "      <td>Urban</td>\n",
       "      <td>Software Engineer</td>\n",
       "      <td>14566</td>\n",
       "      <td>False</td>\n",
       "      <td>True</td>\n",
       "      <td>True</td>\n",
       "    </tr>\n",
       "    <tr>\n",
       "      <th>...</th>\n",
       "      <td>...</td>\n",
       "      <td>...</td>\n",
       "      <td>...</td>\n",
       "      <td>...</td>\n",
       "      <td>...</td>\n",
       "      <td>...</td>\n",
       "      <td>...</td>\n",
       "      <td>...</td>\n",
       "      <td>...</td>\n",
       "      <td>...</td>\n",
       "      <td>...</td>\n",
       "      <td>...</td>\n",
       "    </tr>\n",
       "    <tr>\n",
       "      <th>995</th>\n",
       "      <td>22</td>\n",
       "      <td>female</td>\n",
       "      <td>8</td>\n",
       "      <td>Instagram</td>\n",
       "      <td>Lifestlye</td>\n",
       "      <td>United Kingdom</td>\n",
       "      <td>Rural</td>\n",
       "      <td>Marketer Manager</td>\n",
       "      <td>18536</td>\n",
       "      <td>False</td>\n",
       "      <td>True</td>\n",
       "      <td>False</td>\n",
       "    </tr>\n",
       "    <tr>\n",
       "      <th>996</th>\n",
       "      <td>40</td>\n",
       "      <td>non-binary</td>\n",
       "      <td>6</td>\n",
       "      <td>YouTube</td>\n",
       "      <td>Travel</td>\n",
       "      <td>United Kingdom</td>\n",
       "      <td>Rural</td>\n",
       "      <td>Software Engineer</td>\n",
       "      <td>12711</td>\n",
       "      <td>True</td>\n",
       "      <td>False</td>\n",
       "      <td>False</td>\n",
       "    </tr>\n",
       "    <tr>\n",
       "      <th>997</th>\n",
       "      <td>27</td>\n",
       "      <td>non-binary</td>\n",
       "      <td>5</td>\n",
       "      <td>YouTube</td>\n",
       "      <td>Travel</td>\n",
       "      <td>United Kingdom</td>\n",
       "      <td>Rural</td>\n",
       "      <td>Student</td>\n",
       "      <td>17595</td>\n",
       "      <td>True</td>\n",
       "      <td>False</td>\n",
       "      <td>True</td>\n",
       "    </tr>\n",
       "    <tr>\n",
       "      <th>998</th>\n",
       "      <td>61</td>\n",
       "      <td>female</td>\n",
       "      <td>4</td>\n",
       "      <td>YouTube</td>\n",
       "      <td>Sports</td>\n",
       "      <td>Australia</td>\n",
       "      <td>Sub_Urban</td>\n",
       "      <td>Marketer Manager</td>\n",
       "      <td>16273</td>\n",
       "      <td>True</td>\n",
       "      <td>True</td>\n",
       "      <td>False</td>\n",
       "    </tr>\n",
       "    <tr>\n",
       "      <th>999</th>\n",
       "      <td>19</td>\n",
       "      <td>female</td>\n",
       "      <td>8</td>\n",
       "      <td>YouTube</td>\n",
       "      <td>Travel</td>\n",
       "      <td>Australia</td>\n",
       "      <td>Rural</td>\n",
       "      <td>Student</td>\n",
       "      <td>16284</td>\n",
       "      <td>False</td>\n",
       "      <td>True</td>\n",
       "      <td>False</td>\n",
       "    </tr>\n",
       "  </tbody>\n",
       "</table>\n",
       "<p>1000 rows × 12 columns</p>\n",
       "</div>"
      ],
      "text/plain": [
       "     age      gender  time_spent   platform  interests        location  \\\n",
       "0     56        male           3  Instagram     Sports  United Kingdom   \n",
       "1     46      female           2   Facebook     Travel  United Kingdom   \n",
       "2     32        male           8  Instagram     Sports       Australia   \n",
       "3     60  non-binary           5  Instagram     Travel  United Kingdom   \n",
       "4     25        male           1  Instagram  Lifestlye       Australia   \n",
       "..   ...         ...         ...        ...        ...             ...   \n",
       "995   22      female           8  Instagram  Lifestlye  United Kingdom   \n",
       "996   40  non-binary           6    YouTube     Travel  United Kingdom   \n",
       "997   27  non-binary           5    YouTube     Travel  United Kingdom   \n",
       "998   61      female           4    YouTube     Sports       Australia   \n",
       "999   19      female           8    YouTube     Travel       Australia   \n",
       "\n",
       "    demographics         profession  income  indebt  isHomeOwner  Owns_Car  \n",
       "0          Urban  Software Engineer   19774    True        False     False  \n",
       "1          Urban            Student   10564    True         True      True  \n",
       "2      Sub_Urban   Marketer Manager   13258   False        False     False  \n",
       "3          Urban            Student   12500   False         True     False  \n",
       "4          Urban  Software Engineer   14566   False         True      True  \n",
       "..           ...                ...     ...     ...          ...       ...  \n",
       "995        Rural   Marketer Manager   18536   False         True     False  \n",
       "996        Rural  Software Engineer   12711    True        False     False  \n",
       "997        Rural            Student   17595    True        False      True  \n",
       "998    Sub_Urban   Marketer Manager   16273    True         True     False  \n",
       "999        Rural            Student   16284   False         True     False  \n",
       "\n",
       "[1000 rows x 12 columns]"
      ]
     },
     "execution_count": 47,
     "metadata": {},
     "output_type": "execute_result"
    }
   ],
   "source": [
    "df_cleaned"
   ]
  },
  {
   "cell_type": "code",
   "execution_count": 49,
   "id": "39a6b73e",
   "metadata": {},
   "outputs": [
    {
     "ename": "SyntaxError",
     "evalue": "invalid character '“' (U+201C) (3226742179.py, line 1)",
     "output_type": "error",
     "traceback": [
      "\u001b[1;36m  Cell \u001b[1;32mIn[49], line 1\u001b[1;36m\u001b[0m\n\u001b[1;33m    outliers = find_outliers_IQR(df[[“time_spent\"])\u001b[0m\n\u001b[1;37m                                     ^\u001b[0m\n\u001b[1;31mSyntaxError\u001b[0m\u001b[1;31m:\u001b[0m invalid character '“' (U+201C)\n"
     ]
    }
   ],
   "source": []
  },
  {
   "cell_type": "code",
   "execution_count": 37,
   "id": "97e10428",
   "metadata": {},
   "outputs": [],
   "source": [
    "#check for outliers          #by z-score or iqr\n"
   ]
  },
  {
   "cell_type": "code",
   "execution_count": null,
   "id": "acd8f952",
   "metadata": {},
   "outputs": [],
   "source": []
  },
  {
   "cell_type": "code",
   "execution_count": 38,
   "id": "d72f58b1",
   "metadata": {},
   "outputs": [
    {
     "data": {
      "text/html": [
       "<div>\n",
       "<style scoped>\n",
       "    .dataframe tbody tr th:only-of-type {\n",
       "        vertical-align: middle;\n",
       "    }\n",
       "\n",
       "    .dataframe tbody tr th {\n",
       "        vertical-align: top;\n",
       "    }\n",
       "\n",
       "    .dataframe thead th {\n",
       "        text-align: right;\n",
       "    }\n",
       "</style>\n",
       "<table border=\"1\" class=\"dataframe\">\n",
       "  <thead>\n",
       "    <tr style=\"text-align: right;\">\n",
       "      <th></th>\n",
       "      <th>age</th>\n",
       "      <th>time_spent</th>\n",
       "      <th>income</th>\n",
       "    </tr>\n",
       "  </thead>\n",
       "  <tbody>\n",
       "    <tr>\n",
       "      <th>count</th>\n",
       "      <td>1000.000000</td>\n",
       "      <td>1000.000000</td>\n",
       "      <td>1000.000000</td>\n",
       "    </tr>\n",
       "    <tr>\n",
       "      <th>mean</th>\n",
       "      <td>40.986000</td>\n",
       "      <td>5.029000</td>\n",
       "      <td>15014.823000</td>\n",
       "    </tr>\n",
       "    <tr>\n",
       "      <th>std</th>\n",
       "      <td>13.497852</td>\n",
       "      <td>2.537834</td>\n",
       "      <td>2958.628221</td>\n",
       "    </tr>\n",
       "    <tr>\n",
       "      <th>min</th>\n",
       "      <td>18.000000</td>\n",
       "      <td>1.000000</td>\n",
       "      <td>10012.000000</td>\n",
       "    </tr>\n",
       "    <tr>\n",
       "      <th>25%</th>\n",
       "      <td>29.000000</td>\n",
       "      <td>3.000000</td>\n",
       "      <td>12402.250000</td>\n",
       "    </tr>\n",
       "    <tr>\n",
       "      <th>50%</th>\n",
       "      <td>42.000000</td>\n",
       "      <td>5.000000</td>\n",
       "      <td>14904.500000</td>\n",
       "    </tr>\n",
       "    <tr>\n",
       "      <th>75%</th>\n",
       "      <td>52.000000</td>\n",
       "      <td>7.000000</td>\n",
       "      <td>17674.250000</td>\n",
       "    </tr>\n",
       "    <tr>\n",
       "      <th>max</th>\n",
       "      <td>64.000000</td>\n",
       "      <td>9.000000</td>\n",
       "      <td>19980.000000</td>\n",
       "    </tr>\n",
       "  </tbody>\n",
       "</table>\n",
       "</div>"
      ],
      "text/plain": [
       "               age   time_spent        income\n",
       "count  1000.000000  1000.000000   1000.000000\n",
       "mean     40.986000     5.029000  15014.823000\n",
       "std      13.497852     2.537834   2958.628221\n",
       "min      18.000000     1.000000  10012.000000\n",
       "25%      29.000000     3.000000  12402.250000\n",
       "50%      42.000000     5.000000  14904.500000\n",
       "75%      52.000000     7.000000  17674.250000\n",
       "max      64.000000     9.000000  19980.000000"
      ]
     },
     "execution_count": 38,
     "metadata": {},
     "output_type": "execute_result"
    }
   ],
   "source": [
    "df.describe()"
   ]
  },
  {
   "cell_type": "markdown",
   "id": "d66ac913",
   "metadata": {},
   "source": [
    "After checking the data and dropping the columns, use .describe() to generate some summary statistics. Generating summary statistics is a quick way to help us determine whether or not the dataset has outliers. \n",
    "By looking min ,max and mean values we can check outliers as if mean values are min and max are so far from mean then max value can be outlier for data ....similar for min "
   ]
  },
  {
   "cell_type": "markdown",
   "id": "b348a83f",
   "metadata": {},
   "source": [
    "Finding outliers in your data should follow a process that combines multiple techniques performed during your exploratory data analysis. \n",
    "Use data visualization techniques to inspect the data’s distribution and verify the presence of outliers. \n",
    "Use a statistical method to calculate the outlier data points.\n",
    "Apply a statistical method to drop or transform the outliers."
   ]
  },
  {
   "cell_type": "markdown",
   "id": "a6c3f7ab",
   "metadata": {},
   "source": [
    "we can see how data is distributed using histogram"
   ]
  },
  {
   "cell_type": "code",
   "execution_count": 45,
   "id": "35607830",
   "metadata": {},
   "outputs": [
    {
     "data": {
      "application/vnd.plotly.v1+json": {
       "config": {
        "plotlyServerURL": "https://plot.ly"
       },
       "data": [
        {
         "alignmentgroup": "True",
         "bingroup": "x",
         "hovertemplate": "time_spent=%{x}<br>count=%{y}<extra></extra>",
         "legendgroup": "",
         "marker": {
          "color": "#636efa",
          "pattern": {
           "shape": ""
          }
         },
         "name": "",
         "offsetgroup": "",
         "orientation": "v",
         "showlegend": false,
         "type": "histogram",
         "x": [
          3,
          2,
          8,
          5,
          1,
          3,
          8,
          4,
          7,
          2,
          7,
          5,
          5,
          6,
          9,
          6,
          8,
          7,
          9,
          4,
          2,
          7,
          6,
          1,
          9,
          9,
          2,
          3,
          5,
          5,
          1,
          8,
          8,
          4,
          7,
          3,
          6,
          9,
          1,
          5,
          4,
          8,
          1,
          9,
          6,
          4,
          9,
          5,
          5,
          5,
          1,
          1,
          8,
          8,
          6,
          4,
          2,
          2,
          9,
          5,
          4,
          1,
          7,
          3,
          6,
          5,
          5,
          5,
          1,
          1,
          3,
          4,
          5,
          2,
          8,
          2,
          9,
          2,
          9,
          7,
          8,
          2,
          7,
          6,
          4,
          7,
          4,
          2,
          7,
          8,
          2,
          5,
          1,
          7,
          8,
          6,
          5,
          6,
          2,
          1,
          7,
          7,
          2,
          2,
          1,
          8,
          8,
          1,
          8,
          9,
          4,
          1,
          1,
          3,
          5,
          5,
          9,
          2,
          2,
          6,
          9,
          1,
          9,
          9,
          9,
          5,
          9,
          4,
          2,
          6,
          4,
          6,
          3,
          6,
          2,
          2,
          9,
          7,
          3,
          1,
          8,
          6,
          7,
          9,
          5,
          1,
          7,
          5,
          3,
          9,
          1,
          1,
          1,
          3,
          6,
          3,
          8,
          2,
          9,
          3,
          5,
          8,
          2,
          6,
          5,
          9,
          5,
          2,
          5,
          4,
          7,
          6,
          2,
          5,
          7,
          7,
          5,
          9,
          4,
          3,
          4,
          5,
          6,
          3,
          2,
          4,
          5,
          4,
          3,
          8,
          4,
          2,
          2,
          1,
          4,
          9,
          7,
          7,
          7,
          8,
          1,
          8,
          4,
          4,
          4,
          6,
          7,
          6,
          1,
          8,
          7,
          6,
          6,
          5,
          6,
          9,
          9,
          8,
          9,
          8,
          8,
          1,
          5,
          4,
          2,
          8,
          3,
          4,
          7,
          9,
          2,
          3,
          4,
          1,
          7,
          2,
          5,
          1,
          3,
          2,
          1,
          7,
          5,
          1,
          6,
          5,
          3,
          7,
          9,
          9,
          9,
          2,
          3,
          7,
          5,
          2,
          3,
          6,
          7,
          9,
          1,
          7,
          8,
          3,
          4,
          6,
          7,
          4,
          8,
          5,
          1,
          4,
          3,
          9,
          8,
          1,
          6,
          9,
          7,
          4,
          1,
          2,
          5,
          5,
          8,
          6,
          8,
          2,
          3,
          6,
          3,
          6,
          6,
          2,
          7,
          2,
          6,
          1,
          3,
          2,
          7,
          4,
          8,
          6,
          4,
          5,
          9,
          7,
          9,
          7,
          1,
          8,
          4,
          3,
          7,
          3,
          8,
          6,
          5,
          4,
          8,
          8,
          1,
          9,
          5,
          4,
          6,
          6,
          2,
          8,
          7,
          1,
          5,
          6,
          4,
          2,
          4,
          1,
          7,
          2,
          2,
          9,
          5,
          2,
          9,
          9,
          1,
          3,
          4,
          7,
          4,
          2,
          7,
          6,
          3,
          6,
          6,
          5,
          4,
          1,
          6,
          2,
          3,
          8,
          6,
          3,
          7,
          4,
          9,
          5,
          3,
          2,
          2,
          3,
          2,
          4,
          2,
          9,
          2,
          9,
          6,
          1,
          4,
          1,
          6,
          4,
          3,
          3,
          9,
          6,
          9,
          5,
          2,
          8,
          5,
          2,
          4,
          9,
          4,
          4,
          2,
          6,
          2,
          7,
          3,
          3,
          5,
          3,
          2,
          9,
          2,
          2,
          8,
          9,
          7,
          3,
          9,
          3,
          5,
          9,
          3,
          7,
          1,
          4,
          4,
          7,
          8,
          1,
          5,
          7,
          4,
          4,
          4,
          6,
          7,
          2,
          5,
          4,
          3,
          7,
          6,
          7,
          5,
          6,
          5,
          7,
          2,
          5,
          6,
          6,
          5,
          7,
          8,
          7,
          5,
          1,
          5,
          2,
          5,
          5,
          2,
          5,
          4,
          1,
          3,
          1,
          5,
          4,
          7,
          5,
          4,
          2,
          4,
          2,
          8,
          3,
          9,
          4,
          6,
          5,
          1,
          9,
          1,
          8,
          9,
          9,
          1,
          2,
          1,
          2,
          8,
          5,
          7,
          2,
          8,
          6,
          8,
          1,
          1,
          7,
          8,
          3,
          5,
          1,
          7,
          5,
          8,
          8,
          9,
          7,
          1,
          3,
          8,
          3,
          8,
          1,
          5,
          4,
          5,
          8,
          4,
          4,
          3,
          7,
          3,
          3,
          5,
          5,
          6,
          8,
          6,
          1,
          8,
          8,
          9,
          9,
          2,
          2,
          3,
          1,
          4,
          4,
          9,
          9,
          9,
          7,
          2,
          5,
          4,
          8,
          2,
          6,
          5,
          2,
          1,
          8,
          2,
          7,
          9,
          9,
          8,
          9,
          2,
          6,
          4,
          4,
          5,
          3,
          1,
          8,
          5,
          3,
          7,
          7,
          1,
          9,
          2,
          5,
          5,
          8,
          8,
          7,
          7,
          6,
          6,
          9,
          6,
          2,
          2,
          5,
          4,
          2,
          3,
          7,
          8,
          6,
          5,
          1,
          8,
          3,
          6,
          3,
          7,
          7,
          9,
          5,
          8,
          8,
          1,
          5,
          3,
          1,
          4,
          8,
          3,
          2,
          9,
          5,
          7,
          2,
          9,
          9,
          4,
          4,
          6,
          6,
          1,
          9,
          2,
          5,
          9,
          4,
          3,
          7,
          6,
          8,
          3,
          5,
          4,
          4,
          4,
          8,
          6,
          3,
          5,
          6,
          5,
          6,
          8,
          7,
          5,
          6,
          4,
          9,
          4,
          1,
          7,
          7,
          4,
          3,
          8,
          5,
          7,
          4,
          4,
          8,
          8,
          2,
          2,
          3,
          3,
          1,
          3,
          6,
          8,
          6,
          5,
          4,
          3,
          4,
          7,
          1,
          7,
          1,
          2,
          4,
          1,
          9,
          6,
          1,
          1,
          6,
          4,
          4,
          6,
          7,
          9,
          5,
          9,
          4,
          2,
          3,
          1,
          6,
          6,
          1,
          3,
          5,
          3,
          3,
          3,
          5,
          5,
          4,
          1,
          5,
          5,
          4,
          6,
          4,
          7,
          7,
          2,
          3,
          1,
          8,
          9,
          4,
          6,
          9,
          6,
          9,
          4,
          8,
          9,
          4,
          5,
          8,
          6,
          7,
          3,
          7,
          8,
          6,
          9,
          6,
          9,
          4,
          8,
          4,
          2,
          9,
          5,
          4,
          2,
          1,
          7,
          6,
          2,
          8,
          4,
          8,
          7,
          5,
          8,
          9,
          5,
          5,
          2,
          5,
          3,
          7,
          5,
          8,
          1,
          3,
          3,
          9,
          5,
          9,
          9,
          1,
          2,
          5,
          4,
          9,
          7,
          6,
          7,
          1,
          1,
          8,
          2,
          9,
          7,
          6,
          1,
          1,
          2,
          6,
          6,
          2,
          1,
          5,
          5,
          2,
          6,
          9,
          2,
          2,
          3,
          7,
          6,
          8,
          8,
          6,
          3,
          3,
          1,
          7,
          5,
          4,
          4,
          4,
          6,
          8,
          8,
          5,
          6,
          4,
          9,
          8,
          1,
          2,
          9,
          8,
          3,
          8,
          1,
          4,
          3,
          6,
          7,
          4,
          7,
          9,
          2,
          3,
          5,
          3,
          8,
          8,
          8,
          9,
          4,
          5,
          5,
          8,
          7,
          9,
          8,
          2,
          4,
          6,
          2,
          7,
          3,
          3,
          2,
          8,
          6,
          1,
          1,
          7,
          8,
          5,
          5,
          4,
          6,
          6,
          3,
          9,
          7,
          1,
          7,
          5,
          5,
          2,
          4,
          6,
          7,
          5,
          9,
          3,
          1,
          4,
          9,
          4,
          2,
          5,
          3,
          9,
          4,
          6,
          2,
          6,
          3,
          9,
          2,
          9,
          5,
          8,
          2,
          6,
          3,
          5,
          8,
          1,
          5,
          3,
          4,
          2,
          9,
          3,
          2,
          9,
          7,
          6,
          1,
          5,
          3,
          1,
          4,
          2,
          2,
          3,
          8,
          8,
          7,
          6,
          9,
          4,
          1,
          8,
          7,
          7,
          3,
          4,
          9,
          6,
          5,
          3,
          9,
          5,
          5,
          4,
          4,
          1,
          7,
          9,
          3,
          2,
          3,
          1,
          6,
          7,
          2,
          8,
          6,
          4,
          5,
          8,
          3,
          3,
          4,
          1,
          9,
          8,
          8,
          6,
          7,
          6,
          9,
          3,
          3,
          3,
          3,
          9,
          4,
          7,
          9,
          7,
          9,
          3,
          4,
          8,
          6,
          5,
          4,
          8
         ],
         "xaxis": "x",
         "yaxis": "y"
        }
       ],
       "layout": {
        "barmode": "relative",
        "legend": {
         "tracegroupgap": 0
        },
        "margin": {
         "t": 60
        },
        "template": {
         "data": {
          "bar": [
           {
            "error_x": {
             "color": "#2a3f5f"
            },
            "error_y": {
             "color": "#2a3f5f"
            },
            "marker": {
             "line": {
              "color": "#E5ECF6",
              "width": 0.5
             },
             "pattern": {
              "fillmode": "overlay",
              "size": 10,
              "solidity": 0.2
             }
            },
            "type": "bar"
           }
          ],
          "barpolar": [
           {
            "marker": {
             "line": {
              "color": "#E5ECF6",
              "width": 0.5
             },
             "pattern": {
              "fillmode": "overlay",
              "size": 10,
              "solidity": 0.2
             }
            },
            "type": "barpolar"
           }
          ],
          "carpet": [
           {
            "aaxis": {
             "endlinecolor": "#2a3f5f",
             "gridcolor": "white",
             "linecolor": "white",
             "minorgridcolor": "white",
             "startlinecolor": "#2a3f5f"
            },
            "baxis": {
             "endlinecolor": "#2a3f5f",
             "gridcolor": "white",
             "linecolor": "white",
             "minorgridcolor": "white",
             "startlinecolor": "#2a3f5f"
            },
            "type": "carpet"
           }
          ],
          "choropleth": [
           {
            "colorbar": {
             "outlinewidth": 0,
             "ticks": ""
            },
            "type": "choropleth"
           }
          ],
          "contour": [
           {
            "colorbar": {
             "outlinewidth": 0,
             "ticks": ""
            },
            "colorscale": [
             [
              0,
              "#0d0887"
             ],
             [
              0.1111111111111111,
              "#46039f"
             ],
             [
              0.2222222222222222,
              "#7201a8"
             ],
             [
              0.3333333333333333,
              "#9c179e"
             ],
             [
              0.4444444444444444,
              "#bd3786"
             ],
             [
              0.5555555555555556,
              "#d8576b"
             ],
             [
              0.6666666666666666,
              "#ed7953"
             ],
             [
              0.7777777777777778,
              "#fb9f3a"
             ],
             [
              0.8888888888888888,
              "#fdca26"
             ],
             [
              1,
              "#f0f921"
             ]
            ],
            "type": "contour"
           }
          ],
          "contourcarpet": [
           {
            "colorbar": {
             "outlinewidth": 0,
             "ticks": ""
            },
            "type": "contourcarpet"
           }
          ],
          "heatmap": [
           {
            "colorbar": {
             "outlinewidth": 0,
             "ticks": ""
            },
            "colorscale": [
             [
              0,
              "#0d0887"
             ],
             [
              0.1111111111111111,
              "#46039f"
             ],
             [
              0.2222222222222222,
              "#7201a8"
             ],
             [
              0.3333333333333333,
              "#9c179e"
             ],
             [
              0.4444444444444444,
              "#bd3786"
             ],
             [
              0.5555555555555556,
              "#d8576b"
             ],
             [
              0.6666666666666666,
              "#ed7953"
             ],
             [
              0.7777777777777778,
              "#fb9f3a"
             ],
             [
              0.8888888888888888,
              "#fdca26"
             ],
             [
              1,
              "#f0f921"
             ]
            ],
            "type": "heatmap"
           }
          ],
          "heatmapgl": [
           {
            "colorbar": {
             "outlinewidth": 0,
             "ticks": ""
            },
            "colorscale": [
             [
              0,
              "#0d0887"
             ],
             [
              0.1111111111111111,
              "#46039f"
             ],
             [
              0.2222222222222222,
              "#7201a8"
             ],
             [
              0.3333333333333333,
              "#9c179e"
             ],
             [
              0.4444444444444444,
              "#bd3786"
             ],
             [
              0.5555555555555556,
              "#d8576b"
             ],
             [
              0.6666666666666666,
              "#ed7953"
             ],
             [
              0.7777777777777778,
              "#fb9f3a"
             ],
             [
              0.8888888888888888,
              "#fdca26"
             ],
             [
              1,
              "#f0f921"
             ]
            ],
            "type": "heatmapgl"
           }
          ],
          "histogram": [
           {
            "marker": {
             "pattern": {
              "fillmode": "overlay",
              "size": 10,
              "solidity": 0.2
             }
            },
            "type": "histogram"
           }
          ],
          "histogram2d": [
           {
            "colorbar": {
             "outlinewidth": 0,
             "ticks": ""
            },
            "colorscale": [
             [
              0,
              "#0d0887"
             ],
             [
              0.1111111111111111,
              "#46039f"
             ],
             [
              0.2222222222222222,
              "#7201a8"
             ],
             [
              0.3333333333333333,
              "#9c179e"
             ],
             [
              0.4444444444444444,
              "#bd3786"
             ],
             [
              0.5555555555555556,
              "#d8576b"
             ],
             [
              0.6666666666666666,
              "#ed7953"
             ],
             [
              0.7777777777777778,
              "#fb9f3a"
             ],
             [
              0.8888888888888888,
              "#fdca26"
             ],
             [
              1,
              "#f0f921"
             ]
            ],
            "type": "histogram2d"
           }
          ],
          "histogram2dcontour": [
           {
            "colorbar": {
             "outlinewidth": 0,
             "ticks": ""
            },
            "colorscale": [
             [
              0,
              "#0d0887"
             ],
             [
              0.1111111111111111,
              "#46039f"
             ],
             [
              0.2222222222222222,
              "#7201a8"
             ],
             [
              0.3333333333333333,
              "#9c179e"
             ],
             [
              0.4444444444444444,
              "#bd3786"
             ],
             [
              0.5555555555555556,
              "#d8576b"
             ],
             [
              0.6666666666666666,
              "#ed7953"
             ],
             [
              0.7777777777777778,
              "#fb9f3a"
             ],
             [
              0.8888888888888888,
              "#fdca26"
             ],
             [
              1,
              "#f0f921"
             ]
            ],
            "type": "histogram2dcontour"
           }
          ],
          "mesh3d": [
           {
            "colorbar": {
             "outlinewidth": 0,
             "ticks": ""
            },
            "type": "mesh3d"
           }
          ],
          "parcoords": [
           {
            "line": {
             "colorbar": {
              "outlinewidth": 0,
              "ticks": ""
             }
            },
            "type": "parcoords"
           }
          ],
          "pie": [
           {
            "automargin": true,
            "type": "pie"
           }
          ],
          "scatter": [
           {
            "fillpattern": {
             "fillmode": "overlay",
             "size": 10,
             "solidity": 0.2
            },
            "type": "scatter"
           }
          ],
          "scatter3d": [
           {
            "line": {
             "colorbar": {
              "outlinewidth": 0,
              "ticks": ""
             }
            },
            "marker": {
             "colorbar": {
              "outlinewidth": 0,
              "ticks": ""
             }
            },
            "type": "scatter3d"
           }
          ],
          "scattercarpet": [
           {
            "marker": {
             "colorbar": {
              "outlinewidth": 0,
              "ticks": ""
             }
            },
            "type": "scattercarpet"
           }
          ],
          "scattergeo": [
           {
            "marker": {
             "colorbar": {
              "outlinewidth": 0,
              "ticks": ""
             }
            },
            "type": "scattergeo"
           }
          ],
          "scattergl": [
           {
            "marker": {
             "colorbar": {
              "outlinewidth": 0,
              "ticks": ""
             }
            },
            "type": "scattergl"
           }
          ],
          "scattermapbox": [
           {
            "marker": {
             "colorbar": {
              "outlinewidth": 0,
              "ticks": ""
             }
            },
            "type": "scattermapbox"
           }
          ],
          "scatterpolar": [
           {
            "marker": {
             "colorbar": {
              "outlinewidth": 0,
              "ticks": ""
             }
            },
            "type": "scatterpolar"
           }
          ],
          "scatterpolargl": [
           {
            "marker": {
             "colorbar": {
              "outlinewidth": 0,
              "ticks": ""
             }
            },
            "type": "scatterpolargl"
           }
          ],
          "scatterternary": [
           {
            "marker": {
             "colorbar": {
              "outlinewidth": 0,
              "ticks": ""
             }
            },
            "type": "scatterternary"
           }
          ],
          "surface": [
           {
            "colorbar": {
             "outlinewidth": 0,
             "ticks": ""
            },
            "colorscale": [
             [
              0,
              "#0d0887"
             ],
             [
              0.1111111111111111,
              "#46039f"
             ],
             [
              0.2222222222222222,
              "#7201a8"
             ],
             [
              0.3333333333333333,
              "#9c179e"
             ],
             [
              0.4444444444444444,
              "#bd3786"
             ],
             [
              0.5555555555555556,
              "#d8576b"
             ],
             [
              0.6666666666666666,
              "#ed7953"
             ],
             [
              0.7777777777777778,
              "#fb9f3a"
             ],
             [
              0.8888888888888888,
              "#fdca26"
             ],
             [
              1,
              "#f0f921"
             ]
            ],
            "type": "surface"
           }
          ],
          "table": [
           {
            "cells": {
             "fill": {
              "color": "#EBF0F8"
             },
             "line": {
              "color": "white"
             }
            },
            "header": {
             "fill": {
              "color": "#C8D4E3"
             },
             "line": {
              "color": "white"
             }
            },
            "type": "table"
           }
          ]
         },
         "layout": {
          "annotationdefaults": {
           "arrowcolor": "#2a3f5f",
           "arrowhead": 0,
           "arrowwidth": 1
          },
          "autotypenumbers": "strict",
          "coloraxis": {
           "colorbar": {
            "outlinewidth": 0,
            "ticks": ""
           }
          },
          "colorscale": {
           "diverging": [
            [
             0,
             "#8e0152"
            ],
            [
             0.1,
             "#c51b7d"
            ],
            [
             0.2,
             "#de77ae"
            ],
            [
             0.3,
             "#f1b6da"
            ],
            [
             0.4,
             "#fde0ef"
            ],
            [
             0.5,
             "#f7f7f7"
            ],
            [
             0.6,
             "#e6f5d0"
            ],
            [
             0.7,
             "#b8e186"
            ],
            [
             0.8,
             "#7fbc41"
            ],
            [
             0.9,
             "#4d9221"
            ],
            [
             1,
             "#276419"
            ]
           ],
           "sequential": [
            [
             0,
             "#0d0887"
            ],
            [
             0.1111111111111111,
             "#46039f"
            ],
            [
             0.2222222222222222,
             "#7201a8"
            ],
            [
             0.3333333333333333,
             "#9c179e"
            ],
            [
             0.4444444444444444,
             "#bd3786"
            ],
            [
             0.5555555555555556,
             "#d8576b"
            ],
            [
             0.6666666666666666,
             "#ed7953"
            ],
            [
             0.7777777777777778,
             "#fb9f3a"
            ],
            [
             0.8888888888888888,
             "#fdca26"
            ],
            [
             1,
             "#f0f921"
            ]
           ],
           "sequentialminus": [
            [
             0,
             "#0d0887"
            ],
            [
             0.1111111111111111,
             "#46039f"
            ],
            [
             0.2222222222222222,
             "#7201a8"
            ],
            [
             0.3333333333333333,
             "#9c179e"
            ],
            [
             0.4444444444444444,
             "#bd3786"
            ],
            [
             0.5555555555555556,
             "#d8576b"
            ],
            [
             0.6666666666666666,
             "#ed7953"
            ],
            [
             0.7777777777777778,
             "#fb9f3a"
            ],
            [
             0.8888888888888888,
             "#fdca26"
            ],
            [
             1,
             "#f0f921"
            ]
           ]
          },
          "colorway": [
           "#636efa",
           "#EF553B",
           "#00cc96",
           "#ab63fa",
           "#FFA15A",
           "#19d3f3",
           "#FF6692",
           "#B6E880",
           "#FF97FF",
           "#FECB52"
          ],
          "font": {
           "color": "#2a3f5f"
          },
          "geo": {
           "bgcolor": "white",
           "lakecolor": "white",
           "landcolor": "#E5ECF6",
           "showlakes": true,
           "showland": true,
           "subunitcolor": "white"
          },
          "hoverlabel": {
           "align": "left"
          },
          "hovermode": "closest",
          "mapbox": {
           "style": "light"
          },
          "paper_bgcolor": "white",
          "plot_bgcolor": "#E5ECF6",
          "polar": {
           "angularaxis": {
            "gridcolor": "white",
            "linecolor": "white",
            "ticks": ""
           },
           "bgcolor": "#E5ECF6",
           "radialaxis": {
            "gridcolor": "white",
            "linecolor": "white",
            "ticks": ""
           }
          },
          "scene": {
           "xaxis": {
            "backgroundcolor": "#E5ECF6",
            "gridcolor": "white",
            "gridwidth": 2,
            "linecolor": "white",
            "showbackground": true,
            "ticks": "",
            "zerolinecolor": "white"
           },
           "yaxis": {
            "backgroundcolor": "#E5ECF6",
            "gridcolor": "white",
            "gridwidth": 2,
            "linecolor": "white",
            "showbackground": true,
            "ticks": "",
            "zerolinecolor": "white"
           },
           "zaxis": {
            "backgroundcolor": "#E5ECF6",
            "gridcolor": "white",
            "gridwidth": 2,
            "linecolor": "white",
            "showbackground": true,
            "ticks": "",
            "zerolinecolor": "white"
           }
          },
          "shapedefaults": {
           "line": {
            "color": "#2a3f5f"
           }
          },
          "ternary": {
           "aaxis": {
            "gridcolor": "white",
            "linecolor": "white",
            "ticks": ""
           },
           "baxis": {
            "gridcolor": "white",
            "linecolor": "white",
            "ticks": ""
           },
           "bgcolor": "#E5ECF6",
           "caxis": {
            "gridcolor": "white",
            "linecolor": "white",
            "ticks": ""
           }
          },
          "title": {
           "x": 0.05
          },
          "xaxis": {
           "automargin": true,
           "gridcolor": "white",
           "linecolor": "white",
           "ticks": "",
           "title": {
            "standoff": 15
           },
           "zerolinecolor": "white",
           "zerolinewidth": 2
          },
          "yaxis": {
           "automargin": true,
           "gridcolor": "white",
           "linecolor": "white",
           "ticks": "",
           "title": {
            "standoff": 15
           },
           "zerolinecolor": "white",
           "zerolinewidth": 2
          }
         }
        },
        "xaxis": {
         "anchor": "y",
         "domain": [
          0,
          1
         ],
         "title": {
          "text": "time_spent"
         }
        },
        "yaxis": {
         "anchor": "x",
         "domain": [
          0,
          1
         ],
         "title": {
          "text": "count"
         }
        }
       }
      },
      "text/html": [
       "<div>                            <div id=\"37fd9cc4-e3df-4f8d-9ef6-ae927769506c\" class=\"plotly-graph-div\" style=\"height:525px; width:100%;\"></div>            <script type=\"text/javascript\">                require([\"plotly\"], function(Plotly) {                    window.PLOTLYENV=window.PLOTLYENV || {};                                    if (document.getElementById(\"37fd9cc4-e3df-4f8d-9ef6-ae927769506c\")) {                    Plotly.newPlot(                        \"37fd9cc4-e3df-4f8d-9ef6-ae927769506c\",                        [{\"alignmentgroup\":\"True\",\"bingroup\":\"x\",\"hovertemplate\":\"time_spent=%{x}<br>count=%{y}<extra></extra>\",\"legendgroup\":\"\",\"marker\":{\"color\":\"#636efa\",\"pattern\":{\"shape\":\"\"}},\"name\":\"\",\"offsetgroup\":\"\",\"orientation\":\"v\",\"showlegend\":false,\"x\":[3,2,8,5,1,3,8,4,7,2,7,5,5,6,9,6,8,7,9,4,2,7,6,1,9,9,2,3,5,5,1,8,8,4,7,3,6,9,1,5,4,8,1,9,6,4,9,5,5,5,1,1,8,8,6,4,2,2,9,5,4,1,7,3,6,5,5,5,1,1,3,4,5,2,8,2,9,2,9,7,8,2,7,6,4,7,4,2,7,8,2,5,1,7,8,6,5,6,2,1,7,7,2,2,1,8,8,1,8,9,4,1,1,3,5,5,9,2,2,6,9,1,9,9,9,5,9,4,2,6,4,6,3,6,2,2,9,7,3,1,8,6,7,9,5,1,7,5,3,9,1,1,1,3,6,3,8,2,9,3,5,8,2,6,5,9,5,2,5,4,7,6,2,5,7,7,5,9,4,3,4,5,6,3,2,4,5,4,3,8,4,2,2,1,4,9,7,7,7,8,1,8,4,4,4,6,7,6,1,8,7,6,6,5,6,9,9,8,9,8,8,1,5,4,2,8,3,4,7,9,2,3,4,1,7,2,5,1,3,2,1,7,5,1,6,5,3,7,9,9,9,2,3,7,5,2,3,6,7,9,1,7,8,3,4,6,7,4,8,5,1,4,3,9,8,1,6,9,7,4,1,2,5,5,8,6,8,2,3,6,3,6,6,2,7,2,6,1,3,2,7,4,8,6,4,5,9,7,9,7,1,8,4,3,7,3,8,6,5,4,8,8,1,9,5,4,6,6,2,8,7,1,5,6,4,2,4,1,7,2,2,9,5,2,9,9,1,3,4,7,4,2,7,6,3,6,6,5,4,1,6,2,3,8,6,3,7,4,9,5,3,2,2,3,2,4,2,9,2,9,6,1,4,1,6,4,3,3,9,6,9,5,2,8,5,2,4,9,4,4,2,6,2,7,3,3,5,3,2,9,2,2,8,9,7,3,9,3,5,9,3,7,1,4,4,7,8,1,5,7,4,4,4,6,7,2,5,4,3,7,6,7,5,6,5,7,2,5,6,6,5,7,8,7,5,1,5,2,5,5,2,5,4,1,3,1,5,4,7,5,4,2,4,2,8,3,9,4,6,5,1,9,1,8,9,9,1,2,1,2,8,5,7,2,8,6,8,1,1,7,8,3,5,1,7,5,8,8,9,7,1,3,8,3,8,1,5,4,5,8,4,4,3,7,3,3,5,5,6,8,6,1,8,8,9,9,2,2,3,1,4,4,9,9,9,7,2,5,4,8,2,6,5,2,1,8,2,7,9,9,8,9,2,6,4,4,5,3,1,8,5,3,7,7,1,9,2,5,5,8,8,7,7,6,6,9,6,2,2,5,4,2,3,7,8,6,5,1,8,3,6,3,7,7,9,5,8,8,1,5,3,1,4,8,3,2,9,5,7,2,9,9,4,4,6,6,1,9,2,5,9,4,3,7,6,8,3,5,4,4,4,8,6,3,5,6,5,6,8,7,5,6,4,9,4,1,7,7,4,3,8,5,7,4,4,8,8,2,2,3,3,1,3,6,8,6,5,4,3,4,7,1,7,1,2,4,1,9,6,1,1,6,4,4,6,7,9,5,9,4,2,3,1,6,6,1,3,5,3,3,3,5,5,4,1,5,5,4,6,4,7,7,2,3,1,8,9,4,6,9,6,9,4,8,9,4,5,8,6,7,3,7,8,6,9,6,9,4,8,4,2,9,5,4,2,1,7,6,2,8,4,8,7,5,8,9,5,5,2,5,3,7,5,8,1,3,3,9,5,9,9,1,2,5,4,9,7,6,7,1,1,8,2,9,7,6,1,1,2,6,6,2,1,5,5,2,6,9,2,2,3,7,6,8,8,6,3,3,1,7,5,4,4,4,6,8,8,5,6,4,9,8,1,2,9,8,3,8,1,4,3,6,7,4,7,9,2,3,5,3,8,8,8,9,4,5,5,8,7,9,8,2,4,6,2,7,3,3,2,8,6,1,1,7,8,5,5,4,6,6,3,9,7,1,7,5,5,2,4,6,7,5,9,3,1,4,9,4,2,5,3,9,4,6,2,6,3,9,2,9,5,8,2,6,3,5,8,1,5,3,4,2,9,3,2,9,7,6,1,5,3,1,4,2,2,3,8,8,7,6,9,4,1,8,7,7,3,4,9,6,5,3,9,5,5,4,4,1,7,9,3,2,3,1,6,7,2,8,6,4,5,8,3,3,4,1,9,8,8,6,7,6,9,3,3,3,3,9,4,7,9,7,9,3,4,8,6,5,4,8],\"xaxis\":\"x\",\"yaxis\":\"y\",\"type\":\"histogram\"}],                        {\"template\":{\"data\":{\"histogram2dcontour\":[{\"type\":\"histogram2dcontour\",\"colorbar\":{\"outlinewidth\":0,\"ticks\":\"\"},\"colorscale\":[[0.0,\"#0d0887\"],[0.1111111111111111,\"#46039f\"],[0.2222222222222222,\"#7201a8\"],[0.3333333333333333,\"#9c179e\"],[0.4444444444444444,\"#bd3786\"],[0.5555555555555556,\"#d8576b\"],[0.6666666666666666,\"#ed7953\"],[0.7777777777777778,\"#fb9f3a\"],[0.8888888888888888,\"#fdca26\"],[1.0,\"#f0f921\"]]}],\"choropleth\":[{\"type\":\"choropleth\",\"colorbar\":{\"outlinewidth\":0,\"ticks\":\"\"}}],\"histogram2d\":[{\"type\":\"histogram2d\",\"colorbar\":{\"outlinewidth\":0,\"ticks\":\"\"},\"colorscale\":[[0.0,\"#0d0887\"],[0.1111111111111111,\"#46039f\"],[0.2222222222222222,\"#7201a8\"],[0.3333333333333333,\"#9c179e\"],[0.4444444444444444,\"#bd3786\"],[0.5555555555555556,\"#d8576b\"],[0.6666666666666666,\"#ed7953\"],[0.7777777777777778,\"#fb9f3a\"],[0.8888888888888888,\"#fdca26\"],[1.0,\"#f0f921\"]]}],\"heatmap\":[{\"type\":\"heatmap\",\"colorbar\":{\"outlinewidth\":0,\"ticks\":\"\"},\"colorscale\":[[0.0,\"#0d0887\"],[0.1111111111111111,\"#46039f\"],[0.2222222222222222,\"#7201a8\"],[0.3333333333333333,\"#9c179e\"],[0.4444444444444444,\"#bd3786\"],[0.5555555555555556,\"#d8576b\"],[0.6666666666666666,\"#ed7953\"],[0.7777777777777778,\"#fb9f3a\"],[0.8888888888888888,\"#fdca26\"],[1.0,\"#f0f921\"]]}],\"heatmapgl\":[{\"type\":\"heatmapgl\",\"colorbar\":{\"outlinewidth\":0,\"ticks\":\"\"},\"colorscale\":[[0.0,\"#0d0887\"],[0.1111111111111111,\"#46039f\"],[0.2222222222222222,\"#7201a8\"],[0.3333333333333333,\"#9c179e\"],[0.4444444444444444,\"#bd3786\"],[0.5555555555555556,\"#d8576b\"],[0.6666666666666666,\"#ed7953\"],[0.7777777777777778,\"#fb9f3a\"],[0.8888888888888888,\"#fdca26\"],[1.0,\"#f0f921\"]]}],\"contourcarpet\":[{\"type\":\"contourcarpet\",\"colorbar\":{\"outlinewidth\":0,\"ticks\":\"\"}}],\"contour\":[{\"type\":\"contour\",\"colorbar\":{\"outlinewidth\":0,\"ticks\":\"\"},\"colorscale\":[[0.0,\"#0d0887\"],[0.1111111111111111,\"#46039f\"],[0.2222222222222222,\"#7201a8\"],[0.3333333333333333,\"#9c179e\"],[0.4444444444444444,\"#bd3786\"],[0.5555555555555556,\"#d8576b\"],[0.6666666666666666,\"#ed7953\"],[0.7777777777777778,\"#fb9f3a\"],[0.8888888888888888,\"#fdca26\"],[1.0,\"#f0f921\"]]}],\"surface\":[{\"type\":\"surface\",\"colorbar\":{\"outlinewidth\":0,\"ticks\":\"\"},\"colorscale\":[[0.0,\"#0d0887\"],[0.1111111111111111,\"#46039f\"],[0.2222222222222222,\"#7201a8\"],[0.3333333333333333,\"#9c179e\"],[0.4444444444444444,\"#bd3786\"],[0.5555555555555556,\"#d8576b\"],[0.6666666666666666,\"#ed7953\"],[0.7777777777777778,\"#fb9f3a\"],[0.8888888888888888,\"#fdca26\"],[1.0,\"#f0f921\"]]}],\"mesh3d\":[{\"type\":\"mesh3d\",\"colorbar\":{\"outlinewidth\":0,\"ticks\":\"\"}}],\"scatter\":[{\"fillpattern\":{\"fillmode\":\"overlay\",\"size\":10,\"solidity\":0.2},\"type\":\"scatter\"}],\"parcoords\":[{\"type\":\"parcoords\",\"line\":{\"colorbar\":{\"outlinewidth\":0,\"ticks\":\"\"}}}],\"scatterpolargl\":[{\"type\":\"scatterpolargl\",\"marker\":{\"colorbar\":{\"outlinewidth\":0,\"ticks\":\"\"}}}],\"bar\":[{\"error_x\":{\"color\":\"#2a3f5f\"},\"error_y\":{\"color\":\"#2a3f5f\"},\"marker\":{\"line\":{\"color\":\"#E5ECF6\",\"width\":0.5},\"pattern\":{\"fillmode\":\"overlay\",\"size\":10,\"solidity\":0.2}},\"type\":\"bar\"}],\"scattergeo\":[{\"type\":\"scattergeo\",\"marker\":{\"colorbar\":{\"outlinewidth\":0,\"ticks\":\"\"}}}],\"scatterpolar\":[{\"type\":\"scatterpolar\",\"marker\":{\"colorbar\":{\"outlinewidth\":0,\"ticks\":\"\"}}}],\"histogram\":[{\"marker\":{\"pattern\":{\"fillmode\":\"overlay\",\"size\":10,\"solidity\":0.2}},\"type\":\"histogram\"}],\"scattergl\":[{\"type\":\"scattergl\",\"marker\":{\"colorbar\":{\"outlinewidth\":0,\"ticks\":\"\"}}}],\"scatter3d\":[{\"type\":\"scatter3d\",\"line\":{\"colorbar\":{\"outlinewidth\":0,\"ticks\":\"\"}},\"marker\":{\"colorbar\":{\"outlinewidth\":0,\"ticks\":\"\"}}}],\"scattermapbox\":[{\"type\":\"scattermapbox\",\"marker\":{\"colorbar\":{\"outlinewidth\":0,\"ticks\":\"\"}}}],\"scatterternary\":[{\"type\":\"scatterternary\",\"marker\":{\"colorbar\":{\"outlinewidth\":0,\"ticks\":\"\"}}}],\"scattercarpet\":[{\"type\":\"scattercarpet\",\"marker\":{\"colorbar\":{\"outlinewidth\":0,\"ticks\":\"\"}}}],\"carpet\":[{\"aaxis\":{\"endlinecolor\":\"#2a3f5f\",\"gridcolor\":\"white\",\"linecolor\":\"white\",\"minorgridcolor\":\"white\",\"startlinecolor\":\"#2a3f5f\"},\"baxis\":{\"endlinecolor\":\"#2a3f5f\",\"gridcolor\":\"white\",\"linecolor\":\"white\",\"minorgridcolor\":\"white\",\"startlinecolor\":\"#2a3f5f\"},\"type\":\"carpet\"}],\"table\":[{\"cells\":{\"fill\":{\"color\":\"#EBF0F8\"},\"line\":{\"color\":\"white\"}},\"header\":{\"fill\":{\"color\":\"#C8D4E3\"},\"line\":{\"color\":\"white\"}},\"type\":\"table\"}],\"barpolar\":[{\"marker\":{\"line\":{\"color\":\"#E5ECF6\",\"width\":0.5},\"pattern\":{\"fillmode\":\"overlay\",\"size\":10,\"solidity\":0.2}},\"type\":\"barpolar\"}],\"pie\":[{\"automargin\":true,\"type\":\"pie\"}]},\"layout\":{\"autotypenumbers\":\"strict\",\"colorway\":[\"#636efa\",\"#EF553B\",\"#00cc96\",\"#ab63fa\",\"#FFA15A\",\"#19d3f3\",\"#FF6692\",\"#B6E880\",\"#FF97FF\",\"#FECB52\"],\"font\":{\"color\":\"#2a3f5f\"},\"hovermode\":\"closest\",\"hoverlabel\":{\"align\":\"left\"},\"paper_bgcolor\":\"white\",\"plot_bgcolor\":\"#E5ECF6\",\"polar\":{\"bgcolor\":\"#E5ECF6\",\"angularaxis\":{\"gridcolor\":\"white\",\"linecolor\":\"white\",\"ticks\":\"\"},\"radialaxis\":{\"gridcolor\":\"white\",\"linecolor\":\"white\",\"ticks\":\"\"}},\"ternary\":{\"bgcolor\":\"#E5ECF6\",\"aaxis\":{\"gridcolor\":\"white\",\"linecolor\":\"white\",\"ticks\":\"\"},\"baxis\":{\"gridcolor\":\"white\",\"linecolor\":\"white\",\"ticks\":\"\"},\"caxis\":{\"gridcolor\":\"white\",\"linecolor\":\"white\",\"ticks\":\"\"}},\"coloraxis\":{\"colorbar\":{\"outlinewidth\":0,\"ticks\":\"\"}},\"colorscale\":{\"sequential\":[[0.0,\"#0d0887\"],[0.1111111111111111,\"#46039f\"],[0.2222222222222222,\"#7201a8\"],[0.3333333333333333,\"#9c179e\"],[0.4444444444444444,\"#bd3786\"],[0.5555555555555556,\"#d8576b\"],[0.6666666666666666,\"#ed7953\"],[0.7777777777777778,\"#fb9f3a\"],[0.8888888888888888,\"#fdca26\"],[1.0,\"#f0f921\"]],\"sequentialminus\":[[0.0,\"#0d0887\"],[0.1111111111111111,\"#46039f\"],[0.2222222222222222,\"#7201a8\"],[0.3333333333333333,\"#9c179e\"],[0.4444444444444444,\"#bd3786\"],[0.5555555555555556,\"#d8576b\"],[0.6666666666666666,\"#ed7953\"],[0.7777777777777778,\"#fb9f3a\"],[0.8888888888888888,\"#fdca26\"],[1.0,\"#f0f921\"]],\"diverging\":[[0,\"#8e0152\"],[0.1,\"#c51b7d\"],[0.2,\"#de77ae\"],[0.3,\"#f1b6da\"],[0.4,\"#fde0ef\"],[0.5,\"#f7f7f7\"],[0.6,\"#e6f5d0\"],[0.7,\"#b8e186\"],[0.8,\"#7fbc41\"],[0.9,\"#4d9221\"],[1,\"#276419\"]]},\"xaxis\":{\"gridcolor\":\"white\",\"linecolor\":\"white\",\"ticks\":\"\",\"title\":{\"standoff\":15},\"zerolinecolor\":\"white\",\"automargin\":true,\"zerolinewidth\":2},\"yaxis\":{\"gridcolor\":\"white\",\"linecolor\":\"white\",\"ticks\":\"\",\"title\":{\"standoff\":15},\"zerolinecolor\":\"white\",\"automargin\":true,\"zerolinewidth\":2},\"scene\":{\"xaxis\":{\"backgroundcolor\":\"#E5ECF6\",\"gridcolor\":\"white\",\"linecolor\":\"white\",\"showbackground\":true,\"ticks\":\"\",\"zerolinecolor\":\"white\",\"gridwidth\":2},\"yaxis\":{\"backgroundcolor\":\"#E5ECF6\",\"gridcolor\":\"white\",\"linecolor\":\"white\",\"showbackground\":true,\"ticks\":\"\",\"zerolinecolor\":\"white\",\"gridwidth\":2},\"zaxis\":{\"backgroundcolor\":\"#E5ECF6\",\"gridcolor\":\"white\",\"linecolor\":\"white\",\"showbackground\":true,\"ticks\":\"\",\"zerolinecolor\":\"white\",\"gridwidth\":2}},\"shapedefaults\":{\"line\":{\"color\":\"#2a3f5f\"}},\"annotationdefaults\":{\"arrowcolor\":\"#2a3f5f\",\"arrowhead\":0,\"arrowwidth\":1},\"geo\":{\"bgcolor\":\"white\",\"landcolor\":\"#E5ECF6\",\"subunitcolor\":\"white\",\"showland\":true,\"showlakes\":true,\"lakecolor\":\"white\"},\"title\":{\"x\":0.05},\"mapbox\":{\"style\":\"light\"}}},\"xaxis\":{\"anchor\":\"y\",\"domain\":[0.0,1.0],\"title\":{\"text\":\"time_spent\"}},\"yaxis\":{\"anchor\":\"x\",\"domain\":[0.0,1.0],\"title\":{\"text\":\"count\"}},\"legend\":{\"tracegroupgap\":0},\"margin\":{\"t\":60},\"barmode\":\"relative\"},                        {\"responsive\": true}                    ).then(function(){\n",
       "                            \n",
       "var gd = document.getElementById('37fd9cc4-e3df-4f8d-9ef6-ae927769506c');\n",
       "var x = new MutationObserver(function (mutations, observer) {{\n",
       "        var display = window.getComputedStyle(gd).display;\n",
       "        if (!display || display === 'none') {{\n",
       "            console.log([gd, 'removed!']);\n",
       "            Plotly.purge(gd);\n",
       "            observer.disconnect();\n",
       "        }}\n",
       "}});\n",
       "\n",
       "// Listen for the removal of the full notebook cells\n",
       "var notebookContainer = gd.closest('#notebook-container');\n",
       "if (notebookContainer) {{\n",
       "    x.observe(notebookContainer, {childList: true});\n",
       "}}\n",
       "\n",
       "// Listen for the clearing of the current output cell\n",
       "var outputEl = gd.closest('.output');\n",
       "if (outputEl) {{\n",
       "    x.observe(outputEl, {childList: true});\n",
       "}}\n",
       "\n",
       "                        })                };                });            </script>        </div>"
      ]
     },
     "metadata": {},
     "output_type": "display_data"
    }
   ],
   "source": [
    "fig = px.histogram(df,x='time_spent')        #this is for z-score\n",
    "fig.show()"
   ]
  },
  {
   "cell_type": "code",
   "execution_count": 46,
   "id": "c5a850de",
   "metadata": {},
   "outputs": [],
   "source": [
    "#no outliers present"
   ]
  },
  {
   "cell_type": "markdown",
   "id": "284343bc",
   "metadata": {},
   "source": [
    "remove or correct irrelevent data"
   ]
  },
  {
   "cell_type": "markdown",
   "id": "df5c51b5",
   "metadata": {},
   "source": [
    "info that is not useful or applicable to analysis\n",
    "1]identify irrelevent data\n",
    "a.colm with constant values\n",
    "2.colm with mostly missing values\n",
    "3.data points or rows with missing values with critical fields\n",
    "2]check for data quality issues(data entry errors,typos,inconsistencies)\n",
    "3]remove irrelevent data"
   ]
  },
  {
   "cell_type": "code",
   "execution_count": 57,
   "id": "db8d4450",
   "metadata": {},
   "outputs": [],
   "source": [
    "df_cleaned = df.dropna(subset=['time_spent']) #drop rows"
   ]
  },
  {
   "cell_type": "code",
   "execution_count": 59,
   "id": "e07ed40e",
   "metadata": {},
   "outputs": [],
   "source": [
    "#df_cleaned = df.drop(columns = ['time_spent','age']) #removing colm"
   ]
  },
  {
   "cell_type": "code",
   "execution_count": 60,
   "id": "ecfa5413",
   "metadata": {},
   "outputs": [
    {
     "data": {
      "text/html": [
       "<div>\n",
       "<style scoped>\n",
       "    .dataframe tbody tr th:only-of-type {\n",
       "        vertical-align: middle;\n",
       "    }\n",
       "\n",
       "    .dataframe tbody tr th {\n",
       "        vertical-align: top;\n",
       "    }\n",
       "\n",
       "    .dataframe thead th {\n",
       "        text-align: right;\n",
       "    }\n",
       "</style>\n",
       "<table border=\"1\" class=\"dataframe\">\n",
       "  <thead>\n",
       "    <tr style=\"text-align: right;\">\n",
       "      <th></th>\n",
       "      <th>age</th>\n",
       "      <th>gender</th>\n",
       "      <th>time_spent</th>\n",
       "      <th>platform</th>\n",
       "      <th>interests</th>\n",
       "      <th>location</th>\n",
       "      <th>demographics</th>\n",
       "      <th>profession</th>\n",
       "      <th>income</th>\n",
       "      <th>indebt</th>\n",
       "      <th>isHomeOwner</th>\n",
       "      <th>Owns_Car</th>\n",
       "    </tr>\n",
       "  </thead>\n",
       "  <tbody>\n",
       "    <tr>\n",
       "      <th>0</th>\n",
       "      <td>56</td>\n",
       "      <td>male</td>\n",
       "      <td>3</td>\n",
       "      <td>Instagram</td>\n",
       "      <td>Sports</td>\n",
       "      <td>United Kingdom</td>\n",
       "      <td>Urban</td>\n",
       "      <td>Software Engineer</td>\n",
       "      <td>19774</td>\n",
       "      <td>True</td>\n",
       "      <td>False</td>\n",
       "      <td>False</td>\n",
       "    </tr>\n",
       "    <tr>\n",
       "      <th>1</th>\n",
       "      <td>46</td>\n",
       "      <td>female</td>\n",
       "      <td>2</td>\n",
       "      <td>Facebook</td>\n",
       "      <td>Travel</td>\n",
       "      <td>United Kingdom</td>\n",
       "      <td>Urban</td>\n",
       "      <td>Student</td>\n",
       "      <td>10564</td>\n",
       "      <td>True</td>\n",
       "      <td>True</td>\n",
       "      <td>True</td>\n",
       "    </tr>\n",
       "    <tr>\n",
       "      <th>2</th>\n",
       "      <td>32</td>\n",
       "      <td>male</td>\n",
       "      <td>8</td>\n",
       "      <td>Instagram</td>\n",
       "      <td>Sports</td>\n",
       "      <td>Australia</td>\n",
       "      <td>Sub_Urban</td>\n",
       "      <td>Marketer Manager</td>\n",
       "      <td>13258</td>\n",
       "      <td>False</td>\n",
       "      <td>False</td>\n",
       "      <td>False</td>\n",
       "    </tr>\n",
       "    <tr>\n",
       "      <th>3</th>\n",
       "      <td>60</td>\n",
       "      <td>non-binary</td>\n",
       "      <td>5</td>\n",
       "      <td>Instagram</td>\n",
       "      <td>Travel</td>\n",
       "      <td>United Kingdom</td>\n",
       "      <td>Urban</td>\n",
       "      <td>Student</td>\n",
       "      <td>12500</td>\n",
       "      <td>False</td>\n",
       "      <td>True</td>\n",
       "      <td>False</td>\n",
       "    </tr>\n",
       "    <tr>\n",
       "      <th>4</th>\n",
       "      <td>25</td>\n",
       "      <td>male</td>\n",
       "      <td>1</td>\n",
       "      <td>Instagram</td>\n",
       "      <td>Lifestlye</td>\n",
       "      <td>Australia</td>\n",
       "      <td>Urban</td>\n",
       "      <td>Software Engineer</td>\n",
       "      <td>14566</td>\n",
       "      <td>False</td>\n",
       "      <td>True</td>\n",
       "      <td>True</td>\n",
       "    </tr>\n",
       "    <tr>\n",
       "      <th>...</th>\n",
       "      <td>...</td>\n",
       "      <td>...</td>\n",
       "      <td>...</td>\n",
       "      <td>...</td>\n",
       "      <td>...</td>\n",
       "      <td>...</td>\n",
       "      <td>...</td>\n",
       "      <td>...</td>\n",
       "      <td>...</td>\n",
       "      <td>...</td>\n",
       "      <td>...</td>\n",
       "      <td>...</td>\n",
       "    </tr>\n",
       "    <tr>\n",
       "      <th>995</th>\n",
       "      <td>22</td>\n",
       "      <td>female</td>\n",
       "      <td>8</td>\n",
       "      <td>Instagram</td>\n",
       "      <td>Lifestlye</td>\n",
       "      <td>United Kingdom</td>\n",
       "      <td>Rural</td>\n",
       "      <td>Marketer Manager</td>\n",
       "      <td>18536</td>\n",
       "      <td>False</td>\n",
       "      <td>True</td>\n",
       "      <td>False</td>\n",
       "    </tr>\n",
       "    <tr>\n",
       "      <th>996</th>\n",
       "      <td>40</td>\n",
       "      <td>non-binary</td>\n",
       "      <td>6</td>\n",
       "      <td>YouTube</td>\n",
       "      <td>Travel</td>\n",
       "      <td>United Kingdom</td>\n",
       "      <td>Rural</td>\n",
       "      <td>Software Engineer</td>\n",
       "      <td>12711</td>\n",
       "      <td>True</td>\n",
       "      <td>False</td>\n",
       "      <td>False</td>\n",
       "    </tr>\n",
       "    <tr>\n",
       "      <th>997</th>\n",
       "      <td>27</td>\n",
       "      <td>non-binary</td>\n",
       "      <td>5</td>\n",
       "      <td>YouTube</td>\n",
       "      <td>Travel</td>\n",
       "      <td>United Kingdom</td>\n",
       "      <td>Rural</td>\n",
       "      <td>Student</td>\n",
       "      <td>17595</td>\n",
       "      <td>True</td>\n",
       "      <td>False</td>\n",
       "      <td>True</td>\n",
       "    </tr>\n",
       "    <tr>\n",
       "      <th>998</th>\n",
       "      <td>61</td>\n",
       "      <td>female</td>\n",
       "      <td>4</td>\n",
       "      <td>YouTube</td>\n",
       "      <td>Sports</td>\n",
       "      <td>Australia</td>\n",
       "      <td>Sub_Urban</td>\n",
       "      <td>Marketer Manager</td>\n",
       "      <td>16273</td>\n",
       "      <td>True</td>\n",
       "      <td>True</td>\n",
       "      <td>False</td>\n",
       "    </tr>\n",
       "    <tr>\n",
       "      <th>999</th>\n",
       "      <td>19</td>\n",
       "      <td>female</td>\n",
       "      <td>8</td>\n",
       "      <td>YouTube</td>\n",
       "      <td>Travel</td>\n",
       "      <td>Australia</td>\n",
       "      <td>Rural</td>\n",
       "      <td>Student</td>\n",
       "      <td>16284</td>\n",
       "      <td>False</td>\n",
       "      <td>True</td>\n",
       "      <td>False</td>\n",
       "    </tr>\n",
       "  </tbody>\n",
       "</table>\n",
       "<p>1000 rows × 12 columns</p>\n",
       "</div>"
      ],
      "text/plain": [
       "     age      gender  time_spent   platform  interests        location  \\\n",
       "0     56        male           3  Instagram     Sports  United Kingdom   \n",
       "1     46      female           2   Facebook     Travel  United Kingdom   \n",
       "2     32        male           8  Instagram     Sports       Australia   \n",
       "3     60  non-binary           5  Instagram     Travel  United Kingdom   \n",
       "4     25        male           1  Instagram  Lifestlye       Australia   \n",
       "..   ...         ...         ...        ...        ...             ...   \n",
       "995   22      female           8  Instagram  Lifestlye  United Kingdom   \n",
       "996   40  non-binary           6    YouTube     Travel  United Kingdom   \n",
       "997   27  non-binary           5    YouTube     Travel  United Kingdom   \n",
       "998   61      female           4    YouTube     Sports       Australia   \n",
       "999   19      female           8    YouTube     Travel       Australia   \n",
       "\n",
       "    demographics         profession  income  indebt  isHomeOwner  Owns_Car  \n",
       "0          Urban  Software Engineer   19774    True        False     False  \n",
       "1          Urban            Student   10564    True         True      True  \n",
       "2      Sub_Urban   Marketer Manager   13258   False        False     False  \n",
       "3          Urban            Student   12500   False         True     False  \n",
       "4          Urban  Software Engineer   14566   False         True      True  \n",
       "..           ...                ...     ...     ...          ...       ...  \n",
       "995        Rural   Marketer Manager   18536   False         True     False  \n",
       "996        Rural  Software Engineer   12711    True        False     False  \n",
       "997        Rural            Student   17595    True        False      True  \n",
       "998    Sub_Urban   Marketer Manager   16273    True         True     False  \n",
       "999        Rural            Student   16284   False         True     False  \n",
       "\n",
       "[1000 rows x 12 columns]"
      ]
     },
     "execution_count": 60,
     "metadata": {},
     "output_type": "execute_result"
    }
   ],
   "source": [
    "df_cleaned"
   ]
  },
  {
   "cell_type": "code",
   "execution_count": 61,
   "id": "b8a70a26",
   "metadata": {},
   "outputs": [],
   "source": [
    "#detect or deal with inconsistent data"
   ]
  },
  {
   "cell_type": "markdown",
   "id": "056a9cd1",
   "metadata": {},
   "source": [
    "treating categorical and numerical data\n",
    "Categorical and numerical data must be treated differently during data\n",
    "preparation. It is necessary to transform categorical data into numerical\n",
    "variables using techniques such as one-hot encoding, while numerical data\n",
    "can be normalized or standardized.\n"
   ]
  },
  {
   "cell_type": "markdown",
   "id": "235f274c",
   "metadata": {},
   "source": [
    "#handling categorical data\n",
    "1]label encoding\n",
    "Label encoding converts the categorical data into numerical ones, but it assigns a unique number(starting from 0) to each class of data. This may lead to the generation of priority issues during model training of data sets. A label with a high value may be considered to have high priority than a label having a lower value."
   ]
  },
  {
   "cell_type": "code",
   "execution_count": 107,
   "id": "e2631e57",
   "metadata": {},
   "outputs": [
    {
     "data": {
      "text/plain": [
       "array([1, 0, 2], dtype=int64)"
      ]
     },
     "execution_count": 107,
     "metadata": {},
     "output_type": "execute_result"
    }
   ],
   "source": [
    "# Import label encoder \n",
    "from sklearn import preprocessing \n",
    "  \n",
    "# label_encoder object knows  \n",
    "# how to understand word labels. \n",
    "label_encoder = preprocessing.LabelEncoder() \n",
    "  \n",
    "# Encode labels in column 'gender'. \n",
    "df['gender']= label_encoder.fit_transform(df['gender']) \n",
    "  \n",
    "df['gender'].unique() \n",
    "#After applying Label Encoding with LabelEncoder() our categorical value will replace with the numerical value[int]."
   ]
  },
  {
   "cell_type": "markdown",
   "id": "d64a9692",
   "metadata": {},
   "source": [
    "one hot encoding\n",
    "Most real-life datasets we encounter during our data science project development have columns of mixed data type. These datasets consist of both categorical as well as numerical columns. However, various Machine Learning models do not work with categorical data and to fit this data into the machine learning model it needs to be converted into numerical data. For example, suppose a dataset has a Gender column with categorical elements like Male and  Female. These labels have no specific order of preference and also since the data is string labels, machine learning models misinterpreted that there is some sort of hierarchy in them.\n",
    "\n",
    "One approach to solve this problem can be label encoding where we will assign a numerical value to these labels for example Male and Female mapped to 0 and 1. But this can add bias in our model as it will start giving higher preference to the Female parameter as 1>0 but ideally, both labels are equally important in the dataset. To deal with this issue we will use the One Hot Encoding technique."
   ]
  },
  {
   "cell_type": "code",
   "execution_count": 109,
   "id": "ecdb3144",
   "metadata": {},
   "outputs": [
    {
     "name": "stdout",
     "output_type": "stream",
     "text": [
      "['male' 'female' 'non-binary']\n",
      "['Urban' 'Sub_Urban' 'Rural']\n"
     ]
    }
   ],
   "source": [
    "print(dataset['gender'].unique())      #unique values \n",
    "print(dataset['demographics'].unique()) "
   ]
  },
  {
   "cell_type": "code",
   "execution_count": 113,
   "id": "baf79b03",
   "metadata": {},
   "outputs": [
    {
     "data": {
      "text/plain": [
       "gender\n",
       "male          337\n",
       "non-binary    332\n",
       "female        331\n",
       "Name: count, dtype: int64"
      ]
     },
     "execution_count": 113,
     "metadata": {},
     "output_type": "execute_result"
    }
   ],
   "source": [
    "dataset['gender'].value_counts() \n"
   ]
  },
  {
   "cell_type": "code",
   "execution_count": 114,
   "id": "52b30b75",
   "metadata": {},
   "outputs": [
    {
     "data": {
      "text/plain": [
       "demographics\n",
       "Rural        340\n",
       "Sub_Urban    335\n",
       "Urban        325\n",
       "Name: count, dtype: int64"
      ]
     },
     "execution_count": 114,
     "metadata": {},
     "output_type": "execute_result"
    }
   ],
   "source": [
    "dataset['demographics'].value_counts() "
   ]
  },
  {
   "cell_type": "code",
   "execution_count": 116,
   "id": "c457e507",
   "metadata": {},
   "outputs": [
    {
     "name": "stdout",
     "output_type": "stream",
     "text": [
      "     age  time_spent   platform  interests        location         profession  \\\n",
      "0     56           3  Instagram     Sports  United Kingdom  Software Engineer   \n",
      "1     46           2   Facebook     Travel  United Kingdom            Student   \n",
      "2     32           8  Instagram     Sports       Australia   Marketer Manager   \n",
      "3     60           5  Instagram     Travel  United Kingdom            Student   \n",
      "4     25           1  Instagram  Lifestlye       Australia  Software Engineer   \n",
      "..   ...         ...        ...        ...             ...                ...   \n",
      "995   22           8  Instagram  Lifestlye  United Kingdom   Marketer Manager   \n",
      "996   40           6    YouTube     Travel  United Kingdom  Software Engineer   \n",
      "997   27           5    YouTube     Travel  United Kingdom            Student   \n",
      "998   61           4    YouTube     Sports       Australia   Marketer Manager   \n",
      "999   19           8    YouTube     Travel       Australia            Student   \n",
      "\n",
      "     income  indebt  isHomeOwner  Owns_Car  gender_female  gender_male  \\\n",
      "0     19774    True        False     False          False         True   \n",
      "1     10564    True         True      True           True        False   \n",
      "2     13258   False        False     False          False         True   \n",
      "3     12500   False         True     False          False        False   \n",
      "4     14566   False         True      True          False         True   \n",
      "..      ...     ...          ...       ...            ...          ...   \n",
      "995   18536   False         True     False           True        False   \n",
      "996   12711    True        False     False          False        False   \n",
      "997   17595    True        False      True          False        False   \n",
      "998   16273    True         True     False           True        False   \n",
      "999   16284   False         True     False           True        False   \n",
      "\n",
      "     gender_non-binary  demographics_Rural  demographics_Sub_Urban  \\\n",
      "0                False               False                   False   \n",
      "1                False               False                   False   \n",
      "2                False               False                    True   \n",
      "3                 True               False                   False   \n",
      "4                False               False                   False   \n",
      "..                 ...                 ...                     ...   \n",
      "995              False                True                   False   \n",
      "996               True                True                   False   \n",
      "997               True                True                   False   \n",
      "998              False               False                    True   \n",
      "999              False                True                   False   \n",
      "\n",
      "     demographics_Urban  \n",
      "0                  True  \n",
      "1                  True  \n",
      "2                 False  \n",
      "3                  True  \n",
      "4                  True  \n",
      "..                  ...  \n",
      "995               False  \n",
      "996               False  \n",
      "997               False  \n",
      "998               False  \n",
      "999               False  \n",
      "\n",
      "[1000 rows x 16 columns]\n"
     ]
    }
   ],
   "source": [
    "one_hot_encoded_data = pd.get_dummies(dataset, columns = ['gender', 'demographics']) \n",
    "print(one_hot_encoded_data)"
   ]
  },
  {
   "cell_type": "markdown",
   "id": "b27367ca",
   "metadata": {},
   "source": [
    "handling numerical data"
   ]
  },
  {
   "cell_type": "markdown",
   "id": "6b5057eb",
   "metadata": {},
   "source": [
    "StandardScaler() is an object from the sklearn.preprocessing library that\n",
    "standardizes numerical data by transforming it to have a mean of 0 and a\n",
    "standard deviation of 1.\n",
    "A new DataFrame is created ( data_standard_scaled ) as a copy of the\n",
    "dataset with categorical data handled.\n",
    "The numerical column is standardized using the fit_transform method,\n",
    "and the result is saved in the new DataFrame.\n",
    "\n",
    "\n",
    "Min-max scaling:\n",
    "MinMaxScaler() is an object from the sklearn.preprocessing library that\n",
    "scales numerical data to a specific range (default is [0, 1]).\n",
    "A new DataFrame is created ( data_min_max_scaled ) as a copy of the\n",
    "dataset with categorical data handled.\n",
    "The numerical column is scaled using the fit_transform method, and the\n",
    "result is saved in the new DataFrame.\n",
    "The appropriate method for handling numerical data is chosen based on\n",
    "the specific dataset, and the result is saved as\n",
    "data_with_numerical_handled . In this example, standard scaling is used.\n",
    "\n"
   ]
  },
  {
   "cell_type": "code",
   "execution_count": null,
   "id": "b80508c2",
   "metadata": {},
   "outputs": [],
   "source": []
  },
  {
   "cell_type": "markdown",
   "id": "48457f34",
   "metadata": {},
   "source": [
    "# data exploration"
   ]
  },
  {
   "cell_type": "markdown",
   "id": "b9dd261a",
   "metadata": {},
   "source": [
    "helps to identify patterns and trends and forms the basis of the data analysis phase\n",
    "1.calculate summary statistics(mean,median,mode to understand central tendencies and distribution of data)"
   ]
  },
  {
   "cell_type": "code",
   "execution_count": 62,
   "id": "8d6af633",
   "metadata": {},
   "outputs": [],
   "source": [
    "mean = df['time_spent'].mean()"
   ]
  },
  {
   "cell_type": "code",
   "execution_count": 63,
   "id": "3280d3c7",
   "metadata": {},
   "outputs": [
    {
     "name": "stdout",
     "output_type": "stream",
     "text": [
      "5.029\n"
     ]
    }
   ],
   "source": [
    "print(mean)"
   ]
  },
  {
   "cell_type": "code",
   "execution_count": 64,
   "id": "a241514c",
   "metadata": {},
   "outputs": [
    {
     "data": {
      "text/plain": [
       "5.0"
      ]
     },
     "execution_count": 64,
     "metadata": {},
     "output_type": "execute_result"
    }
   ],
   "source": [
    "median = df['time_spent'].median()\n",
    "median"
   ]
  },
  {
   "cell_type": "code",
   "execution_count": 67,
   "id": "37486dd5",
   "metadata": {},
   "outputs": [
    {
     "data": {
      "text/plain": [
       "ModeResult(mode=43, count=33)"
      ]
     },
     "execution_count": 67,
     "metadata": {},
     "output_type": "execute_result"
    }
   ],
   "source": [
    "mode = stats.mode(df['age'])\n",
    "mode"
   ]
  },
  {
   "cell_type": "code",
   "execution_count": 68,
   "id": "3dae6745",
   "metadata": {},
   "outputs": [
    {
     "data": {
      "text/html": [
       "<div>\n",
       "<style scoped>\n",
       "    .dataframe tbody tr th:only-of-type {\n",
       "        vertical-align: middle;\n",
       "    }\n",
       "\n",
       "    .dataframe tbody tr th {\n",
       "        vertical-align: top;\n",
       "    }\n",
       "\n",
       "    .dataframe thead th {\n",
       "        text-align: right;\n",
       "    }\n",
       "</style>\n",
       "<table border=\"1\" class=\"dataframe\">\n",
       "  <thead>\n",
       "    <tr style=\"text-align: right;\">\n",
       "      <th></th>\n",
       "      <th>age</th>\n",
       "      <th>gender</th>\n",
       "      <th>time_spent</th>\n",
       "      <th>platform</th>\n",
       "      <th>interests</th>\n",
       "      <th>location</th>\n",
       "      <th>demographics</th>\n",
       "      <th>profession</th>\n",
       "      <th>income</th>\n",
       "      <th>indebt</th>\n",
       "      <th>isHomeOwner</th>\n",
       "      <th>Owns_Car</th>\n",
       "    </tr>\n",
       "  </thead>\n",
       "  <tbody>\n",
       "    <tr>\n",
       "      <th>0</th>\n",
       "      <td>56</td>\n",
       "      <td>male</td>\n",
       "      <td>3</td>\n",
       "      <td>Instagram</td>\n",
       "      <td>Sports</td>\n",
       "      <td>United Kingdom</td>\n",
       "      <td>Urban</td>\n",
       "      <td>Software Engineer</td>\n",
       "      <td>19774</td>\n",
       "      <td>True</td>\n",
       "      <td>False</td>\n",
       "      <td>False</td>\n",
       "    </tr>\n",
       "    <tr>\n",
       "      <th>1</th>\n",
       "      <td>46</td>\n",
       "      <td>female</td>\n",
       "      <td>2</td>\n",
       "      <td>Facebook</td>\n",
       "      <td>Travel</td>\n",
       "      <td>United Kingdom</td>\n",
       "      <td>Urban</td>\n",
       "      <td>Student</td>\n",
       "      <td>10564</td>\n",
       "      <td>True</td>\n",
       "      <td>True</td>\n",
       "      <td>True</td>\n",
       "    </tr>\n",
       "    <tr>\n",
       "      <th>2</th>\n",
       "      <td>32</td>\n",
       "      <td>male</td>\n",
       "      <td>8</td>\n",
       "      <td>Instagram</td>\n",
       "      <td>Sports</td>\n",
       "      <td>Australia</td>\n",
       "      <td>Sub_Urban</td>\n",
       "      <td>Marketer Manager</td>\n",
       "      <td>13258</td>\n",
       "      <td>False</td>\n",
       "      <td>False</td>\n",
       "      <td>False</td>\n",
       "    </tr>\n",
       "    <tr>\n",
       "      <th>3</th>\n",
       "      <td>60</td>\n",
       "      <td>non-binary</td>\n",
       "      <td>5</td>\n",
       "      <td>Instagram</td>\n",
       "      <td>Travel</td>\n",
       "      <td>United Kingdom</td>\n",
       "      <td>Urban</td>\n",
       "      <td>Student</td>\n",
       "      <td>12500</td>\n",
       "      <td>False</td>\n",
       "      <td>True</td>\n",
       "      <td>False</td>\n",
       "    </tr>\n",
       "    <tr>\n",
       "      <th>4</th>\n",
       "      <td>25</td>\n",
       "      <td>male</td>\n",
       "      <td>1</td>\n",
       "      <td>Instagram</td>\n",
       "      <td>Lifestlye</td>\n",
       "      <td>Australia</td>\n",
       "      <td>Urban</td>\n",
       "      <td>Software Engineer</td>\n",
       "      <td>14566</td>\n",
       "      <td>False</td>\n",
       "      <td>True</td>\n",
       "      <td>True</td>\n",
       "    </tr>\n",
       "    <tr>\n",
       "      <th>...</th>\n",
       "      <td>...</td>\n",
       "      <td>...</td>\n",
       "      <td>...</td>\n",
       "      <td>...</td>\n",
       "      <td>...</td>\n",
       "      <td>...</td>\n",
       "      <td>...</td>\n",
       "      <td>...</td>\n",
       "      <td>...</td>\n",
       "      <td>...</td>\n",
       "      <td>...</td>\n",
       "      <td>...</td>\n",
       "    </tr>\n",
       "    <tr>\n",
       "      <th>995</th>\n",
       "      <td>22</td>\n",
       "      <td>female</td>\n",
       "      <td>8</td>\n",
       "      <td>Instagram</td>\n",
       "      <td>Lifestlye</td>\n",
       "      <td>United Kingdom</td>\n",
       "      <td>Rural</td>\n",
       "      <td>Marketer Manager</td>\n",
       "      <td>18536</td>\n",
       "      <td>False</td>\n",
       "      <td>True</td>\n",
       "      <td>False</td>\n",
       "    </tr>\n",
       "    <tr>\n",
       "      <th>996</th>\n",
       "      <td>40</td>\n",
       "      <td>non-binary</td>\n",
       "      <td>6</td>\n",
       "      <td>YouTube</td>\n",
       "      <td>Travel</td>\n",
       "      <td>United Kingdom</td>\n",
       "      <td>Rural</td>\n",
       "      <td>Software Engineer</td>\n",
       "      <td>12711</td>\n",
       "      <td>True</td>\n",
       "      <td>False</td>\n",
       "      <td>False</td>\n",
       "    </tr>\n",
       "    <tr>\n",
       "      <th>997</th>\n",
       "      <td>27</td>\n",
       "      <td>non-binary</td>\n",
       "      <td>5</td>\n",
       "      <td>YouTube</td>\n",
       "      <td>Travel</td>\n",
       "      <td>United Kingdom</td>\n",
       "      <td>Rural</td>\n",
       "      <td>Student</td>\n",
       "      <td>17595</td>\n",
       "      <td>True</td>\n",
       "      <td>False</td>\n",
       "      <td>True</td>\n",
       "    </tr>\n",
       "    <tr>\n",
       "      <th>998</th>\n",
       "      <td>61</td>\n",
       "      <td>female</td>\n",
       "      <td>4</td>\n",
       "      <td>YouTube</td>\n",
       "      <td>Sports</td>\n",
       "      <td>Australia</td>\n",
       "      <td>Sub_Urban</td>\n",
       "      <td>Marketer Manager</td>\n",
       "      <td>16273</td>\n",
       "      <td>True</td>\n",
       "      <td>True</td>\n",
       "      <td>False</td>\n",
       "    </tr>\n",
       "    <tr>\n",
       "      <th>999</th>\n",
       "      <td>19</td>\n",
       "      <td>female</td>\n",
       "      <td>8</td>\n",
       "      <td>YouTube</td>\n",
       "      <td>Travel</td>\n",
       "      <td>Australia</td>\n",
       "      <td>Rural</td>\n",
       "      <td>Student</td>\n",
       "      <td>16284</td>\n",
       "      <td>False</td>\n",
       "      <td>True</td>\n",
       "      <td>False</td>\n",
       "    </tr>\n",
       "  </tbody>\n",
       "</table>\n",
       "<p>1000 rows × 12 columns</p>\n",
       "</div>"
      ],
      "text/plain": [
       "     age      gender  time_spent   platform  interests        location  \\\n",
       "0     56        male           3  Instagram     Sports  United Kingdom   \n",
       "1     46      female           2   Facebook     Travel  United Kingdom   \n",
       "2     32        male           8  Instagram     Sports       Australia   \n",
       "3     60  non-binary           5  Instagram     Travel  United Kingdom   \n",
       "4     25        male           1  Instagram  Lifestlye       Australia   \n",
       "..   ...         ...         ...        ...        ...             ...   \n",
       "995   22      female           8  Instagram  Lifestlye  United Kingdom   \n",
       "996   40  non-binary           6    YouTube     Travel  United Kingdom   \n",
       "997   27  non-binary           5    YouTube     Travel  United Kingdom   \n",
       "998   61      female           4    YouTube     Sports       Australia   \n",
       "999   19      female           8    YouTube     Travel       Australia   \n",
       "\n",
       "    demographics         profession  income  indebt  isHomeOwner  Owns_Car  \n",
       "0          Urban  Software Engineer   19774    True        False     False  \n",
       "1          Urban            Student   10564    True         True      True  \n",
       "2      Sub_Urban   Marketer Manager   13258   False        False     False  \n",
       "3          Urban            Student   12500   False         True     False  \n",
       "4          Urban  Software Engineer   14566   False         True      True  \n",
       "..           ...                ...     ...     ...          ...       ...  \n",
       "995        Rural   Marketer Manager   18536   False         True     False  \n",
       "996        Rural  Software Engineer   12711    True        False     False  \n",
       "997        Rural            Student   17595    True        False      True  \n",
       "998    Sub_Urban   Marketer Manager   16273    True         True     False  \n",
       "999        Rural            Student   16284   False         True     False  \n",
       "\n",
       "[1000 rows x 12 columns]"
      ]
     },
     "execution_count": 68,
     "metadata": {},
     "output_type": "execute_result"
    }
   ],
   "source": [
    "df"
   ]
  },
  {
   "cell_type": "markdown",
   "id": "34dbeda8",
   "metadata": {},
   "source": [
    "2] visualize the data to identify any patterns or anomalies in the data"
   ]
  },
  {
   "cell_type": "code",
   "execution_count": 70,
   "id": "97fae37f",
   "metadata": {},
   "outputs": [
    {
     "data": {
      "image/png": "[encoded data removed]",
      "text/plain": [
       "<Figure size 400x500 with 1 Axes>"
      ]
     },
     "metadata": {},
     "output_type": "display_data"
    }
   ],
   "source": [
    "plt.figure(figsize=(4,5))\n",
    "sns.scatterplot(data=df,x = 'age',y='time_spent')\n",
    "plt.xlabel('age')\n",
    "plt.ylabel('time_spent')\n",
    "plt.title('Scatter Plot')\n",
    "plt.show()"
   ]
  },
  {
   "cell_type": "code",
   "execution_count": 71,
   "id": "b7e27fee",
   "metadata": {},
   "outputs": [],
   "source": [
    "#line chart"
   ]
  },
  {
   "cell_type": "code",
   "execution_count": 78,
   "id": "14285e93",
   "metadata": {},
   "outputs": [
    {
     "data": {
      "image/png": "[encoded data removed]",
      "text/plain": [
       "<Figure size 400x500 with 1 Axes>"
      ]
     },
     "metadata": {},
     "output_type": "display_data"
    }
   ],
   "source": [
    "plt.figure(figsize=(4,5))\n",
    "plt.plot(df['age'],df['time_spent'])\n",
    "plt.xlabel('age')\n",
    "plt.ylabel('time_spent')\n",
    "plt.title('line chart')\n",
    "plt.show()"
   ]
  },
  {
   "cell_type": "code",
   "execution_count": 79,
   "id": "08f70193",
   "metadata": {},
   "outputs": [],
   "source": [
    "#histogram remember plt.hist"
   ]
  },
  {
   "cell_type": "code",
   "execution_count": 84,
   "id": "3dc683f0",
   "metadata": {},
   "outputs": [
    {
     "data": {
      "image/png": "[encoded data removed]",
      "text/plain": [
       "<Figure size 400x500 with 1 Axes>"
      ]
     },
     "metadata": {},
     "output_type": "display_data"
    }
   ],
   "source": [
    "plt.figure(figsize=(4,5))\n",
    "plt.hist(df['age'],bins=20,edgecolor='blue',color='yellow') \n",
    "plt.xlabel('age')\n",
    "plt.ylabel('time_spent')\n",
    "plt.title('histogram')\n",
    "plt.show()"
   ]
  },
  {
   "cell_type": "markdown",
   "id": "27389881",
   "metadata": {},
   "source": [
    "box plot   remember sns.boxplot"
   ]
  },
  {
   "cell_type": "code",
   "execution_count": 90,
   "id": "13c1562b",
   "metadata": {},
   "outputs": [
    {
     "data": {
      "image/png": "[encoded data removed]",
      "text/plain": [
       "<Figure size 400x500 with 1 Axes>"
      ]
     },
     "metadata": {},
     "output_type": "display_data"
    }
   ],
   "source": [
    "plt.figure(figsize=(4,5))\n",
    "sns.boxplot(data=df,y='age') \n",
    "plt.ylabel('time_spent')\n",
    "plt.title('boxplot')\n",
    "plt.show()"
   ]
  },
  {
   "cell_type": "markdown",
   "id": "8e025420",
   "metadata": {},
   "source": [
    "3]examine the correlation betweeen variables using correlation matrices or scatter plots\n",
    "corr matrix is table that displays corr coeff betwn all pairs of numeric variables in dataset\n",
    "\n",
    "corr coeff(-1 to 1 range)\n"
   ]
  },
  {
   "cell_type": "markdown",
   "id": "05609513",
   "metadata": {},
   "source": [
    "4]use hypothesis test"
   ]
  },
  {
   "cell_type": "markdown",
   "id": "8d868dae",
   "metadata": {},
   "source": [
    "5]data analysis   \n",
    "using various techniques techn to gain insights into underlying \n",
    "structure and relationships in the data\n",
    "clustering,regression,classification"
   ]
  },
  {
   "cell_type": "code",
   "execution_count": null,
   "id": "9776325b",
   "metadata": {},
   "outputs": [],
   "source": []
  }
 ],
 "metadata": {
  "kernelspec": {
   "display_name": "Python 3 (ipykernel)",
   "language": "python",
   "name": "python3"
  },
  "language_info": {
   "codemirror_mode": {
    "name": "ipython",
    "version": 3
   },
   "file_extension": ".py",
   "mimetype": "text/x-python",
   "name": "python",
   "nbconvert_exporter": "python",
   "pygments_lexer": "ipython3",
   "version": "3.11.5"
  }
 },
 "nbformat": 4,
 "nbformat_minor": 5
}
